{
 "cells": [
  {
   "cell_type": "code",
   "execution_count": null,
   "id": "353db4ba-5354-4f50-92a4-13ba0145c3ef",
   "metadata": {},
   "outputs": [],
   "source": [
    "import cv2\n",
    "import numpy as np\n",
    "\n",
    "title='Practice_3'\n",
    "file_path='./test/practice_3.jpg'\n",
    "img=cv2.imread(\"./Images/blank_500.jpg\")\n",
    "cv2.imshow(title,img)\n",
    "img_copy = img.copy()\n",
    "while True:\n",
    "    randcol=255*(np.random.rand(3))    #색상 랜덤\n",
    "    randr=int(499*(np.random.rand(1))) #반지름 랜점\n",
    "    (x1,y1)=499*((np.random.rand(2)))  #위치 랜덤 1\n",
    "    (x2,y2)=499*(np.random.rand(2))    #위치 랜덤 2\n",
    "    x1=int(x1); x2=int(x2); y1=int(y1); y2=int(y2) #랜덤 위치 어레이 내부 값을 int로\n",
    "    randthick=(int(10*(np.random.rand(1)))+1)      #랜덤 두께\n",
    "    if cv2.waitKey(0)&0xFF==108: #press l to draw line **only use small letter\n",
    "        cv2.line(img_copy,(x1,y1),(x2,y2),randcol,randthick)\n",
    "        cv2.imshow(title,img_copy)\n",
    "    elif cv2.waitKey(0)&0xFF==99:  #press c to draw circle **only use small letter\n",
    "        cv2.circle(img_copy,(x1,y1),randr,randcol,randthick)\n",
    "        cv2.imshow(title,img_copy)\n",
    "    elif cv2.waitKey(0)&0xFF==114: #press r to draw rectangle **only use small letter\n",
    "        cv2.rectangle(img_copy,(x1,y1),(x2,y2),randcol,randthick)\n",
    "        cv2.imshow(title,img_copy)\n",
    "    elif cv2.waitKey(0)&0xFF==101: #press e to erase **only use small letter\n",
    "        img_copy=img.copy()\n",
    "        cv2.imshow(title,img_copy)\n",
    "    elif cv2.waitKey(0)&0xFF==113: #press q to quit **only use small letter\n",
    "        cv2.imwrite(file_path,img_copy)\n",
    "        break\n",
    "        \n",
    "cv2.destroyAllWindows()"
   ]
  },
  {
   "cell_type": "code",
   "execution_count": null,
   "id": "e8bcdcca-98cf-444f-b830-2a2aa5f49a24",
   "metadata": {},
   "outputs": [],
   "source": []
  }
 ],
 "metadata": {
  "kernelspec": {
   "display_name": "Python 3 (ipykernel)",
   "language": "python",
   "name": "python3"
  },
  "language_info": {
   "codemirror_mode": {
    "name": "ipython",
    "version": 3
   },
   "file_extension": ".py",
   "mimetype": "text/x-python",
   "name": "python",
   "nbconvert_exporter": "python",
   "pygments_lexer": "ipython3",
   "version": "3.9.7"
  }
 },
 "nbformat": 4,
 "nbformat_minor": 5
}
