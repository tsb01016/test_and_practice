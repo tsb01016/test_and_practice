{
 "cells": [
  {
   "cell_type": "markdown",
   "metadata": {},
   "source": [
    "# <center> <span style=\"color:IndianRed\"> Chapter7. Function </center>\n",
    "\n",
    "## 윤윤기 선임연구원(KIAPI)/Ph.D\n",
    "### e-mail : mecha8404@nate.com\n",
    "### Ref. 스타트파이썬(코딩스쿨), 점프투파이썬(이지스퍼블리싱), 이젠나도 파이썬(성안당)"
   ]
  },
  {
   "cell_type": "markdown",
   "metadata": {},
   "source": [
    "## 코드 실습 방법\n",
    "-  ctrl + enter 또는 메뉴 Run 클릭 : 셀 실행\n",
    "-  shift + enter : 셀 실행 후 셀 추가"
   ]
  },
  {
   "cell_type": "markdown",
   "metadata": {},
   "source": [
    "## 변수 초기화 코드"
   ]
  },
  {
   "cell_type": "code",
   "execution_count": null,
   "metadata": {},
   "outputs": [],
   "source": [
    "all = [var for var in globals() if var[0] != \"_\"]\n",
    "for var in all:\n",
    "    del globals()[var]"
   ]
  },
  {
   "cell_type": "markdown",
   "metadata": {},
   "source": [
    "## <span style=\"color:blue\"> 7.1. 함수란?"
   ]
  },
  {
   "cell_type": "markdown",
   "metadata": {},
   "source": [
    "- 수학 '함수'의 개념과 영어 단어 functiondl 가지는 '기능'의 의미를 포함\n",
    "- 함수의 예 : pritnt(), input(), range(), list(), append(), remove() 등"
   ]
  },
  {
   "cell_type": "markdown",
   "metadata": {},
   "source": [
    "## <span style=\"color:blue\"> 7.2. 함수의 종류"
   ]
  },
  {
   "cell_type": "markdown",
   "metadata": {},
   "source": [
    "- 사용자 함수 : 사용자가 필요한 함수를 직접 정의하여 사용 가능\n",
    "- 내장함수 : 파이썬 프로그램 설치시 사용 가능\n",
    "- 내장함수와 그 기능\n",
    "\n",
    "|내장함수명       |<center>기능</center>                                                      |\n",
    "|:---------------:|:--------------------------------------------------------------------------|\n",
    "|print()          |화면에 데이터 값을 출력함                                                  |\n",
    "|input()          |키보드를 통해 데이터를 입력 받음                                           |\n",
    "|range()          |정수의 범위를 설정함                                                       |\n",
    "|list()           |리스트를 생성함                                                            |\n",
    "|append()         |리스트의 요소를 추가함                                                     |\n",
    "|remove()         |리스트의 요소를 삭제함                                                     |\n",
    "|round()          |소수점 이하 반올림 값을 구함, 예)round(2.5)는 3, round(5.2)는 5의 값을 가짐|\n",
    "|int()            |문자열이나 실수형 숫자를 정수형 숫자로 변환함                              |\n",
    "|float()          |문자열이나 정수형 숫자를 실수형 숫자로 변환함                              |\n",
    "|str()            |정수형 숫자를 문자열로 반환함                                              |\n",
    "|type()           |데이터의 형을 구함                                                         |"
   ]
  },
  {
   "cell_type": "markdown",
   "metadata": {},
   "source": [
    "## <span style=\"color:blue\"> 7.3. 함수의 장점"
   ]
  },
  {
   "cell_type": "markdown",
   "metadata": {},
   "source": [
    "- 자주 사용하거나 반복적으로 구현되는 부분을 함수로 구현하면 코드를 깔끔하게 만들고 가독성이 높아짐\n",
    "- 코드의 유지 보수가 용이해짐"
   ]
  },
  {
   "cell_type": "markdown",
   "metadata": {},
   "source": [
    "## <span style=\"color:blue\"> 7.4. 함수의 정의와 호출"
   ]
  },
  {
   "cell_type": "markdown",
   "metadata": {},
   "source": [
    "- 함수 정의\n",
    "~~~python\n",
    "def 함수명 () :    # <-- 마지막에 콜론 주의\n",
    "    코드 작성\n",
    "    ...\n",
    "    ...\n",
    "~~~\n",
    "                                     \n",
    "- 함수호출\n",
    "~~~python\n",
    "    ...\n",
    "    함수명()\n",
    "    ...\n",
    "~~~\n",
    "                                             \n",
    "- def 키워드 : 함수 정의가 시작된다는 것을 알려주는 파이썬 키워드\n",
    "- header : 함수 정의 시 시작하는 첫 라인을 의미, 반듯이 콜론으로 끝맺음을 해야 함\n",
    "- body : 구현 코드가 들어 있는 함수내부"
   ]
  },
  {
   "cell_type": "markdown",
   "metadata": {},
   "source": [
    "## <span style=\"color:blue\"> 7.5. 매개변수와 인수"
   ]
  },
  {
   "cell_type": "markdown",
   "metadata": {},
   "source": [
    "- 매개변수 : 함수에 입력으로 전달된 값을 받는 변수를 의미\n",
    "- 인수 : 함수를 호출 할 때 전달하는 입력값을 의미\n",
    "\n",
    "~~~python\n",
    "def 함수명 (매개변수1, 매개변수2, .........) :    # <-- 마지막에 콜론 주의\n",
    "    코드 작성\n",
    "    ...\n",
    "    ...\n",
    "~~~\n",
    "                                             \n",
    "- 함수호출\n",
    "~~~python\n",
    "    ...\n",
    "    함수명(입력값1, 입력값2, .......) # 인수는 입력값을 의미\n",
    "    ...\n",
    "~~~"
   ]
  },
  {
   "cell_type": "markdown",
   "metadata": {},
   "source": [
    "### <span style=\"color:violet\">Example1. Welcome</br>\n",
    "#### _매개변수, 입력값만 있는 함수_"
   ]
  },
  {
   "cell_type": "code",
   "execution_count": null,
   "metadata": {},
   "outputs": [],
   "source": [
    "def Welcome():\n",
    "    print('미래형자동차산업 혁신아카데미에 오신것을 환영합니다!')\n",
    "    \n",
    "Welcome()"
   ]
  },
  {
   "cell_type": "markdown",
   "metadata": {},
   "source": [
    "#### <span style=\"color:brown\">실습: 코드를 입력하세요</br>"
   ]
  },
  {
   "cell_type": "code",
   "execution_count": null,
   "metadata": {},
   "outputs": [],
   "source": []
  },
  {
   "cell_type": "markdown",
   "metadata": {},
   "source": [
    "### <span style=\"color:violet\">Example2. Welcome2</br>\n",
    "#### _매개변수, 입력값만 있는 함수_"
   ]
  },
  {
   "cell_type": "code",
   "execution_count": null,
   "metadata": {},
   "outputs": [],
   "source": [
    "def Welcome2(param):\n",
    "    print(param,'미래형자동차산업 혁신아카데미에 오신것을 환영합니다!')\n",
    "    print('%s 미래형자동차산업 혁신아카데미에 오신것을 환영합니다!' % param)\n",
    "    \n",
    "Welcome2('홍길동님')\n",
    "Welcome2('이순신님')"
   ]
  },
  {
   "cell_type": "markdown",
   "metadata": {},
   "source": [
    "#### <span style=\"color:brown\">실습: 코드를 입력하세요</br>"
   ]
  },
  {
   "cell_type": "code",
   "execution_count": null,
   "metadata": {},
   "outputs": [],
   "source": []
  },
  {
   "cell_type": "markdown",
   "metadata": {},
   "source": [
    "### <span style=\"color:violet\">Example3. 짝수/홀수 판별</br>\n",
    "#### _매개변수, 입력값만 있는 함수_"
   ]
  },
  {
   "cell_type": "code",
   "execution_count": null,
   "metadata": {},
   "outputs": [],
   "source": [
    "def even_odd(n) :\n",
    "    if n % 2 == 0 :\n",
    "        print('%d -> 짝수' % n)\n",
    "    else :\n",
    "        print('%d -> 홀수' % n)\n",
    "    \n",
    "even_odd(15)\n",
    "even_odd(26)"
   ]
  },
  {
   "cell_type": "markdown",
   "metadata": {},
   "source": [
    "#### <span style=\"color:brown\">실습: 코드를 입력하세요</br>"
   ]
  },
  {
   "cell_type": "code",
   "execution_count": null,
   "metadata": {},
   "outputs": [],
   "source": []
  },
  {
   "cell_type": "markdown",
   "metadata": {},
   "source": [
    "### <span style=\"color:Orange\">Test1. 정수 합계 구하기</br>\n",
    "- 다음 함수의 매개변수를 이용하여 정수의 합계를 구하는 프로그램입니다. 빈칸을 채워보세요.\n",
    "\n",
    "|<center>실행결과</center>|\n",
    "|:-|\n",
    "| 1 ~ 10의 정수의 합계 : 55 |\n",
    "| 100 ~ 200의 정수의 합계 : 15150 |\n",
    "| 200 ~ 300의 정수의 합계 : 25250 |\n",
    "\n",
    "~~~python\n",
    "def sum(______, ______) :\n",
    "    hap = 0\n",
    "    for i in range(start, end+1) :\n",
    "        hap = hap + i\n",
    "    print('%d ~ %d의 정수의 합계 : %d' % (start, end, ______))\n",
    "    \n",
    "sum(1, 10)\n",
    "sum(______, 200)\n",
    "sum(200, ______)\n",
    "~~~"
   ]
  },
  {
   "cell_type": "markdown",
   "metadata": {},
   "source": [
    "#### 실습: 코드를 입력하세요."
   ]
  },
  {
   "cell_type": "code",
   "execution_count": null,
   "metadata": {},
   "outputs": [],
   "source": [
    "def sum(start, end) :\n",
    "    hap = 0\n",
    "    for i in range(start, end+1) :\n",
    "        hap = hap + i\n",
    "    print('%d ~ %d의 정수의 합계 : %d' % (start, end, hap))\n",
    "    \n",
    "sum(1, 10)\n",
    "sum(100, 200)\n",
    "sum(200, 300)"
   ]
  },
  {
   "cell_type": "markdown",
   "metadata": {},
   "source": [
    "## <span style=\"color:blue\"> 7.6. 함수의 반환값"
   ]
  },
  {
   "cell_type": "markdown",
   "metadata": {},
   "source": [
    "- 정의된 함수가 실행된 후 도출된 결과 값을 호출한 함수에 반환할 수 있음\n",
    "- 즉 함수의 반환값을 가지고 또 다른 연산을 할 수 있음\n",
    "- 이 반환값은 return 이라는 코드를 통해 값의 반환이 이루어짐\n",
    "\n",
    "~~~python\n",
    "def 함수명 (매개변수1, 매개변수2, .........) :    # <-- 마지막에 콜론 주의\n",
    "    코드 작성\n",
    "    ...\n",
    "    변수1 = 코드 코드\n",
    "    ...\n",
    "    \n",
    "    return 변수1         # return을 이용하여 반환\n",
    "~~~\n",
    "                                             \n",
    "- 함수호출\n",
    "~~~python\n",
    "    ...\n",
    "    변수2 = 함수명(인수1, 인수2, .......) # return 값을 변수 2에 저장\n",
    "    ...\n",
    "~~~"
   ]
  },
  {
   "cell_type": "markdown",
   "metadata": {},
   "source": [
    "### <span style=\"color:violet\">Example4. 더하기</br>\n",
    "#### _매개변수와 반환값 모두 있는 함수_"
   ]
  },
  {
   "cell_type": "code",
   "execution_count": null,
   "metadata": {},
   "outputs": [],
   "source": [
    "def add(param1, param2) :\n",
    "    return param1 + param2\n",
    "\n",
    "result_add = add(2,3)\n",
    "\n",
    "print('2', '+', '3', '=',result_add)\n",
    "print('{} + {} = {}'.format(2,3,result_add))"
   ]
  },
  {
   "cell_type": "markdown",
   "metadata": {},
   "source": [
    "#### <span style=\"color:brown\">실습: 코드를 입력하세요</br>"
   ]
  },
  {
   "cell_type": "code",
   "execution_count": null,
   "metadata": {},
   "outputs": [],
   "source": []
  },
  {
   "cell_type": "markdown",
   "metadata": {},
   "source": [
    "### <span style=\"color:violet\">Example5. 인치 센티미터 변환</br>\n",
    "#### _매개변수와 반환값 모두 있는 함수_"
   ]
  },
  {
   "cell_type": "code",
   "execution_count": null,
   "metadata": {},
   "outputs": [],
   "source": [
    "def inch_to_cm(inch) :\n",
    "    cm = inch * 2.54\n",
    "    return cm\n",
    "                \n",
    "num = int(input('인치를 입력하세요: '))#30\n",
    "result = inch_to_cm(num)\n",
    "print('%d inch => %.2f cm' % (num, result))"
   ]
  },
  {
   "cell_type": "markdown",
   "metadata": {},
   "source": [
    "#### <span style=\"color:brown\">실습: 코드를 입력하세요</br>"
   ]
  },
  {
   "cell_type": "code",
   "execution_count": null,
   "metadata": {},
   "outputs": [],
   "source": []
  },
  {
   "cell_type": "markdown",
   "metadata": {},
   "source": [
    "### <span style=\"color:violet\">Example6. 배수 판별</br>\n",
    "#### _매개변수와 반환값 모두 있는 함수_"
   ]
  },
  {
   "cell_type": "code",
   "execution_count": null,
   "metadata": {},
   "outputs": [],
   "source": [
    "def besu5(n) :\n",
    "    if n % 5 == 0 :\n",
    "        rel = True\n",
    "    else :\n",
    "        rel = False\n",
    "\n",
    "    return rel\n",
    "\n",
    "num = int(input('양의 정수를 입력하세요: '))#40\n",
    "result = besu5(num)\n",
    "\n",
    "if result == True :\n",
    "    print('%d -> 5의 배수이다.' % num)\n",
    "else :\n",
    "    print('%d -> 5의 배수가 아니다.' % num)"
   ]
  },
  {
   "cell_type": "markdown",
   "metadata": {},
   "source": [
    "#### <span style=\"color:brown\">실습: 코드를 입력하세요</br>"
   ]
  },
  {
   "cell_type": "code",
   "execution_count": null,
   "metadata": {},
   "outputs": [],
   "source": []
  },
  {
   "cell_type": "markdown",
   "metadata": {},
   "source": [
    "### <span style=\"color:Orange\">Test2. 원의 면적과 원주 길이 구하기</br>\n",
    "- 다음 함수의 매개변수를 이용하여 정수의 합계를 구하는 프로그램입니다. 빈칸을 채워보세요.\n",
    "\n",
    "|<center>실행결과</center>|\n",
    "|:-|\n",
    "| 반지름을 입력하세요 : 5 |\n",
    "| 원의면적 : 78.50, 원주의 길이 : 31.40 |\n",
    "\n",
    "~~~python\n",
    "def cir_area(________) :\n",
    "    area = radius * radius * 3.14\n",
    "    return ________\n",
    "\n",
    "def cir_circum(radius) :\n",
    "    circum = 2 * 3.14 * ________\n",
    "    return ________\n",
    "\n",
    "r = float(input('반지름을 입력하세요: '))\n",
    "a = cir_area(r)\n",
    "________ = cir_circum(r)\n",
    "print('원의 면적 : %.2f, 원주의 길이 :%.2f' % (________, b))\n",
    "\n",
    "~~~"
   ]
  },
  {
   "cell_type": "markdown",
   "metadata": {},
   "source": [
    "#### <span style=\"color:brown\">실습: 코드를 입력하세요</br>"
   ]
  },
  {
   "cell_type": "code",
   "execution_count": null,
   "metadata": {},
   "outputs": [],
   "source": []
  },
  {
   "cell_type": "markdown",
   "metadata": {},
   "source": [
    "## <span style=\"color:blue\"> 7.7. 함수 활용하기-1"
   ]
  },
  {
   "cell_type": "markdown",
   "metadata": {},
   "source": [
    "### 7.7.1 함수의 입력 변수 활용\n",
    "- 매개변수가 있는 함수를 정의하는 경우 함수 호출시 꼭 입력 매개변수에 대해 값을 할당해야 함"
   ]
  },
  {
   "cell_type": "markdown",
   "metadata": {},
   "source": [
    "#### <span style=\"color:brown\">실습: 실행해보세요</br>"
   ]
  },
  {
   "cell_type": "code",
   "execution_count": null,
   "metadata": {},
   "outputs": [],
   "source": [
    "def needParam(param) :\n",
    "    print('Input Value :', param)\n",
    "    \n",
    "needParam()"
   ]
  },
  {
   "cell_type": "markdown",
   "metadata": {},
   "source": [
    "#### _함수 설정시 매개변수를 설정한 경우 초기값을 할당 해야함_\n",
    "\n",
    "- 위와 같이 매개변수에 초기값을 설정하지 않은 경우 에러가 발생함\n",
    "- 해결하기 위해서는 초기값을 설정하거나, 함수호출시 입력값을 넘겨줘야함"
   ]
  },
  {
   "cell_type": "markdown",
   "metadata": {},
   "source": [
    "#### <span style=\"color:brown\">실습: 실행해보세요</br>"
   ]
  },
  {
   "cell_type": "code",
   "execution_count": null,
   "metadata": {},
   "outputs": [],
   "source": [
    "def needParam(param) :\n",
    "    print('Input Value :', param)\n",
    "    \n",
    "needParam('Parameter')"
   ]
  },
  {
   "cell_type": "code",
   "execution_count": null,
   "metadata": {},
   "outputs": [],
   "source": [
    "def needParam(param='Parameter') :\n",
    "    print('Input Value :', param)\n",
    "    \n",
    "needParam()"
   ]
  },
  {
   "cell_type": "markdown",
   "metadata": {},
   "source": [
    "- 위와 같이 입력 매개 변수가 하나인 경우는 간단함\n",
    "- 여러 매개 변수가 있을 경우에는 좀 더 고려해야하는 사항이 있음"
   ]
  },
  {
   "cell_type": "markdown",
   "metadata": {},
   "source": [
    "#### <span style=\"color:brown\">실습: 실행해보세요</br>"
   ]
  },
  {
   "cell_type": "code",
   "execution_count": null,
   "metadata": {},
   "outputs": [],
   "source": [
    "def myCompany(nameOfCompany, numberOfEmployees = 4, Address='서울') :\n",
    "    print('회사명 : {},  직원수 : {}, 주소 : {} '.format( nameOfCompany, numberOfEmployees, Address) )\n",
    "\n",
    "myCompany()"
   ]
  },
  {
   "cell_type": "markdown",
   "metadata": {},
   "source": [
    "- 위와 같이 함수 정의시 초기값이 설정되지 않은 nameOfCompany 매개변수는 반드시 값을 설정해줘야 하는데 생략되서 에러 발생"
   ]
  },
  {
   "cell_type": "markdown",
   "metadata": {},
   "source": [
    "#### <span style=\"color:brown\">실습: 실행해보세요</br>"
   ]
  },
  {
   "cell_type": "code",
   "execution_count": null,
   "metadata": {},
   "outputs": [],
   "source": [
    "def myCompany(nameOfCompany, numberOfEmployees = 4, Address='서울') :\n",
    "    print('회사명 : {},  직원수 : {}, 주소 : {} '.format( nameOfCompany, numberOfEmployees, Address) )\n",
    "    \n",
    "myCompany( 'KIAPI')"
   ]
  },
  {
   "cell_type": "markdown",
   "metadata": {},
   "source": [
    "#### 키워드 인자 설정\n",
    "- 함수의 매개변수에 값을 할당시 매개 변수명과  함께 직접 값을 할당하는 방식도 지원함\n",
    "- 이런 방식을 키워드 인자 설정 방식이라고 함"
   ]
  },
  {
   "cell_type": "markdown",
   "metadata": {},
   "source": [
    "#### <span style=\"color:brown\">실습: 실행해보세요</br>"
   ]
  },
  {
   "cell_type": "code",
   "execution_count": null,
   "metadata": {},
   "outputs": [],
   "source": [
    "def myCompany(nameOfCompany, numberOfEmployees = 4, Address='서울') :\n",
    "    print('회사명 : {},  직원수 : {}, 주소 : {} '.format( nameOfCompany, numberOfEmployees, Address) )\n",
    "    \n",
    "myCompany(nameOfCompany = '홍길동', numberOfEmployees = 10, Address = '호주')"
   ]
  },
  {
   "cell_type": "markdown",
   "metadata": {},
   "source": [
    "#### <span style=\"color:brown\">실습: 실행해보세요</br>"
   ]
  },
  {
   "cell_type": "code",
   "execution_count": null,
   "metadata": {},
   "outputs": [],
   "source": [
    "def myCompany(nameOfCompany, numberOfEmployees = 4, Address='서울') :\n",
    "    print('회사명 : {},  직원수 : {}, 주소 : {} '.format( nameOfCompany, numberOfEmployees, Address) )\n",
    "    \n",
    "myCompany(Address = '호주', nameOfCompany = '홍길동', numberOfEmployees = 10)"
   ]
  },
  {
   "cell_type": "markdown",
   "metadata": {},
   "source": [
    "- 위의 코드의 경우 변수들의 위치가 달라져도 키워드 기반으로 변수들의 값을 인식하기 때문에 정상적으로 처리가 됨"
   ]
  },
  {
   "cell_type": "markdown",
   "metadata": {},
   "source": [
    "#### <span style=\"color:brown\">실습: 실행해보세요</br>"
   ]
  },
  {
   "cell_type": "code",
   "execution_count": null,
   "metadata": {},
   "outputs": [],
   "source": [
    "def myCompany(nameOfCompany, numberOfEmployees = 4, Address='서울') :\n",
    "    print('회사명 : {},  직원수 : {}, 주소 : {} '.format( nameOfCompany, numberOfEmployees, Address) )\n",
    "    \n",
    "myCompany(nameOfCompany = '홍길동', 10)"
   ]
  },
  {
   "cell_type": "markdown",
   "metadata": {},
   "source": [
    "#### 위의 코드실습에서 에러가 발생하는 이유를 적어보세요."
   ]
  },
  {
   "cell_type": "markdown",
   "metadata": {},
   "source": [
    "작성-->\n",
    "- 예제에서 예러가 발생하는 이유\n",
    "- 파이썬에서는 함수의 매개변수에 값을 할당시 키워드 인자 방식으로 하면 변수들의 위치가 달라져도 키워드 기반으로 인식하기 때문에 정상적으로 처리\n",
    "- 키워드 인자 방식으로 값을 설정하는 경우에는 다음에 위치하는 매개변수 인자도 동일하게 키워드 인자 방식으로 값을 설정해주면 에러를 방지할수 있음"
   ]
  },
  {
   "cell_type": "markdown",
   "metadata": {},
   "source": [
    "#### <span style=\"color:brown\">실습: 실행해보세요</br>"
   ]
  },
  {
   "cell_type": "code",
   "execution_count": null,
   "metadata": {},
   "outputs": [],
   "source": [
    "def myCompany(nameOfCompany, numberOfEmployees = 4, Address='서울') :\n",
    "    print('회사명 : {},  직원수 : {}, 주소 : {} '.format( nameOfCompany, numberOfEmployees, Address) )\n",
    "\n",
    "myCompany('홍길동', '미국', 5)"
   ]
  },
  {
   "cell_type": "markdown",
   "metadata": {},
   "source": [
    "#### 위의 예제에서 잘못됨 부분을 수정하여 코드를 입력하세요."
   ]
  },
  {
   "cell_type": "code",
   "execution_count": null,
   "metadata": {},
   "outputs": [],
   "source": []
  },
  {
   "cell_type": "markdown",
   "metadata": {},
   "source": [
    "### 7.7.2 패킹(Packing)과 언패킹(Unpacking)"
   ]
  },
  {
   "cell_type": "markdown",
   "metadata": {},
   "source": [
    "#### 패킹\n",
    "- 단어 뜻처럼 묶는 것을 의미 \n",
    "- 여러개의 값을 하나의 자료구조 데이터로 묶어 변수에 저장하는 것\n",
    "\n",
    "#### 언패킹\n",
    "- 반대로 묶은 것을 푸는 것을 의미\n",
    "- 자료구조 데이터의 요소를 여러개 변수에 나누어 저장하는 것\n",
    "- 패킹시 * 를 붙인 변수는 남은 요소 전체를 리스트에 담아 저장"
   ]
  },
  {
   "cell_type": "code",
   "execution_count": null,
   "metadata": {},
   "outputs": [],
   "source": [
    "args = 1, 2, 3\n",
    "print(args)"
   ]
  },
  {
   "cell_type": "code",
   "execution_count": null,
   "metadata": {},
   "outputs": [],
   "source": [
    "args = (1, 2, 3)\n",
    "print(args)"
   ]
  },
  {
   "cell_type": "code",
   "execution_count": null,
   "metadata": {},
   "outputs": [],
   "source": [
    "a, b, c = args\n",
    "print(a)\n",
    "print(b)\n",
    "print(c)"
   ]
  },
  {
   "cell_type": "code",
   "execution_count": null,
   "metadata": {},
   "outputs": [],
   "source": [
    "x, *new_args = args\n",
    "print(x)\n",
    "print(new_args)"
   ]
  },
  {
   "cell_type": "markdown",
   "metadata": {},
   "source": [
    "### 7.7.3 함수 가변 인자 리스트 활용\n",
    "- 앞에서는 함수의 매개변수 갯수가 정해진 경우에 대해 알아보았음\n",
    "- 함수 가변 인자 리스트 활용에서는 매개 변수의 수가 가변적으로 변할 때 대응할 수 있는 방법을 확인함\n",
    "- 가변 인자 리스트를 다룰때 자료 구조인 튜플과 딕셔너리 형태로 처리할 수 있는 구조를 제공함"
   ]
  },
  {
   "cell_type": "markdown",
   "metadata": {},
   "source": [
    "#### 튜플 가변 인자 리스트\n",
    "- 튜플 가변 인자 리스트를 함수의 인자로 설정하기 위해서 다음과 같은 형식을 가짐"
   ]
  },
  {
   "cell_type": "markdown",
   "metadata": {},
   "source": [
    "#### 별표(*)를 활용1"
   ]
  },
  {
   "cell_type": "code",
   "execution_count": null,
   "metadata": {},
   "outputs": [],
   "source": [
    "def addNum(*nums) :\n",
    "    sum = 0;\n",
    "    for x in nums :\n",
    "        sum += x;\n",
    "        \n",
    "    print('Sum :', sum)\n",
    "    \n",
    "addNum(1,2,3,4,5)    "
   ]
  },
  {
   "cell_type": "markdown",
   "metadata": {},
   "source": [
    "#### <span style=\"color:brown\">실습: 코드를 입력하세요</br>"
   ]
  },
  {
   "cell_type": "code",
   "execution_count": null,
   "metadata": {},
   "outputs": [],
   "source": []
  },
  {
   "cell_type": "markdown",
   "metadata": {},
   "source": [
    "#### 별표(*)를 활용2"
   ]
  },
  {
   "cell_type": "code",
   "execution_count": null,
   "metadata": {},
   "outputs": [],
   "source": [
    "def myAllCars(*names) :\n",
    "    carList = '';\n",
    "    for x in names :\n",
    "        carList += x + ', '\n",
    "        \n",
    "    print('Car List:', carList)\n",
    "    \n",
    "myAllCars('BMW', 'Benz', 'Audi')  "
   ]
  },
  {
   "cell_type": "markdown",
   "metadata": {},
   "source": [
    "#### <span style=\"color:brown\">실습: 코드를 입력하세요</br>"
   ]
  },
  {
   "cell_type": "code",
   "execution_count": null,
   "metadata": {},
   "outputs": [],
   "source": []
  },
  {
   "cell_type": "markdown",
   "metadata": {},
   "source": [
    "#### 튜플 언패킹을 이용한 함수 호출"
   ]
  },
  {
   "cell_type": "code",
   "execution_count": null,
   "metadata": {},
   "outputs": [],
   "source": [
    "def myAllCars(*names) :\n",
    "    carList = '';\n",
    "    for x in names :\n",
    "        carList += x + ', '\n",
    "        \n",
    "    print('Car List:', carList)\n",
    "    \n",
    "tupleData = ('BMW', 'Benz', 'Audi')   \n",
    "    \n",
    "myAllCars(*tupleData)   "
   ]
  },
  {
   "cell_type": "markdown",
   "metadata": {},
   "source": [
    "#### <span style=\"color:brown\">실습: 코드를 입력하세요</br>"
   ]
  },
  {
   "cell_type": "code",
   "execution_count": null,
   "metadata": {},
   "outputs": [],
   "source": []
  },
  {
   "cell_type": "markdown",
   "metadata": {},
   "source": [
    "#### 딕셔너리 가변 인자 리스트\n",
    "- 딕셔너리 가변 인자 리스트는 키와 값을 가진 형태로 제공되어야함"
   ]
  },
  {
   "cell_type": "markdown",
   "metadata": {},
   "source": [
    "#### 별표(**)를 활용1"
   ]
  },
  {
   "cell_type": "code",
   "execution_count": null,
   "metadata": {},
   "outputs": [],
   "source": [
    "def carInfos(**carPlates) :\n",
    "    for k in carPlates.keys() :\n",
    "        print('차 종류 :', k)\n",
    "        \n",
    "carInfos(Audi = '1234', BMW='5643', Benz='9234')"
   ]
  },
  {
   "cell_type": "markdown",
   "metadata": {},
   "source": [
    "#### <span style=\"color:brown\">실습: 코드를 입력하세요</br>"
   ]
  },
  {
   "cell_type": "code",
   "execution_count": null,
   "metadata": {},
   "outputs": [],
   "source": []
  },
  {
   "cell_type": "markdown",
   "metadata": {},
   "source": [
    "#### 별표(**)를 활용2"
   ]
  },
  {
   "cell_type": "code",
   "execution_count": null,
   "metadata": {},
   "outputs": [],
   "source": [
    "def carInfos(**carPlates) :\n",
    "    for (k, v) in carPlates.items() :\n",
    "        print('{} - {} :'.format(k,v))\n",
    "\n",
    "        \n",
    "carInfos(Audi = '1234', BMW='5643', Benz='9234')"
   ]
  },
  {
   "cell_type": "markdown",
   "metadata": {},
   "source": [
    "#### <span style=\"color:brown\">실습: 코드를 입력하세요</br>"
   ]
  },
  {
   "cell_type": "code",
   "execution_count": null,
   "metadata": {},
   "outputs": [],
   "source": []
  },
  {
   "cell_type": "markdown",
   "metadata": {},
   "source": [
    "#### dictionary 언패킹을 이용한 함수 호출"
   ]
  },
  {
   "cell_type": "code",
   "execution_count": null,
   "metadata": {},
   "outputs": [],
   "source": [
    "def carInfos(**carPlates) :\n",
    "    for (k, v) in carPlates.items() :\n",
    "        print('{} - {} :'.format(k,v))\n",
    "\n",
    "        \n",
    "dicData = dict(Audi = '1234', BMW='5643', Benz='9234')        \n",
    "\n",
    "carInfos(**dicData)"
   ]
  },
  {
   "cell_type": "markdown",
   "metadata": {},
   "source": [
    "### <span style=\"color:violet\">Example7. 함수의 최대 공약수 구하기</br>\n",
    "- 최대 공약수는 0이 아닌 두 개 이상의 수의 공통되는 약수 중에서 가장 큰수를 의미함\n",
    "- 최대 공약수 구하는 알고리즘은 다음과 같음  \n",
    "1) 두수 중 작은 수를 찾는다.  \n",
    "2) 1부터 작은 수까지의 범위를 i로 설정하여 두 수를 i로 나누었을 때 나누어 떨어지는 지를 확인  \n",
    "3) 둘 다 나누어 떨어지는 수, 즉 공약수 중에서 가장 큰 약수가 최대 공약수가 됨  "
   ]
  },
  {
   "cell_type": "code",
   "execution_count": null,
   "metadata": {},
   "outputs": [],
   "source": [
    "def computeMaxGong(x, y):                                   # (1)\n",
    "    if x > y:                                               # (2)\n",
    "        small = y\n",
    "    else:\n",
    "        small = x\n",
    "    for i in range(1, small+1):                             # (3)\n",
    "        if((x % i == 0) and (y % i == 0)):                 # (4)\n",
    "            result = i                                       # (5)\n",
    "    return result                                           # (6)\n",
    "\n",
    "num1 = int(input(\"첫 번째 수를 입력하세요: \"))               # (7) 20입력\n",
    "num2 = int(input(\"두 번째 수를 입력하세요: \"))               # (7) 25입력\n",
    "\n",
    "max_gong = computeMaxGong(num1, num2)                        # (8)\n",
    "\n",
    "print('%d와 %d의 최대공약수 : %d' % (num1, num2, max_gong))  # (9)"
   ]
  },
  {
   "cell_type": "markdown",
   "metadata": {},
   "source": [
    "#### <span style=\"color:brown\">실습: 코드를 입력하세요</br>"
   ]
  },
  {
   "cell_type": "code",
   "execution_count": null,
   "metadata": {},
   "outputs": [],
   "source": []
  },
  {
   "cell_type": "markdown",
   "metadata": {},
   "source": [
    "#### _예제 해석_\n",
    "- 1~6은 함수의 정의 부분이기 때문에 실제 프로그램 수행은 7부터 시작합니다.  \n",
    "\n",
    "- (7)번\n",
    "    - 두개의 수를 키보드를 입력 받아 각각 변수 num1과 num2에 저장합니다.  \n",
    "- (8)번\n",
    "    - 우변에 있는 computeMaxGong(num1, num2)에 의해 computeMaxGong()함수를 호출합니다.  \n",
    "- (1)번\n",
    "    - computeMaxGong(x, y)에서 매개변수 x와 y는 8)의 호출함수 computeMaxGong()의 입력 값 num1과 num2의 값을 가집니다.  \n",
    "- (2)번\n",
    "    - x와 y를 비교하여 둘 중에서 작은 값을 변수 small에 저장합니다.  \n",
    "- (3)번\n",
    "    - for 루프에서 변수 i는 1에서 small까지의 값을 가지고서 4)와 5)의 문장을 반복 수행합니다.  \n",
    "- (4)번\n",
    "    - 변수 x를 i로 나눈 나머지가 0이고 동시에 변수 y를 i로 나눈 나머지가 0이면, 즉 i가 x와 y의 공약수이면, 5의 문장을 수행합니다.   \n",
    "- (5)번 \n",
    "    - 변수 result에 i의 값을 저장합니다.  \n",
    "- (6)번 \n",
    "    - for루프인 3) ~ 5) 의 문장이 반복 수행되어 얻어진 변수 result의 값이 return result에 의해 함수의 반환 값이 됩니다.  \n",
    "- (8)번 \n",
    "    - 변수 max_gong에 computeMaxGong() 함수의 반환 값인 6)의 result 값을 저장합니다.  \n",
    "- (9)번 \n",
    "    - 실행 결과의 3번째 줄에 나차난 것과 같이 입력된 두개의 수와 최대공약수를 화면에 출력합니다."
   ]
  },
  {
   "cell_type": "markdown",
   "metadata": {},
   "source": [
    "### <span style=\"color:violet\">Example8. 소수구하기</br>\n",
    "- 1과 자기 자신만으로 나누어 떨어지는 1보다 큰 양의 정수  \n",
    "![title](ch7_image\\1_소수.png)"
   ]
  },
  {
   "cell_type": "code",
   "execution_count": null,
   "metadata": {},
   "outputs": [],
   "source": [
    "def isPrimeNumber(num) :                                 # (1)\n",
    "      prime_yes = True \n",
    "      for i in range(2, a) : \n",
    "            if a % i == 0 : \n",
    "                  prime_yes = False \n",
    "                  break\n",
    "      return prime_yes\n",
    "\n",
    "      \n",
    "n = int(input('n값을 입력해 주세요 : '))                 # (2)\n",
    "\n",
    "print('2 ~ %d까지의 정수 중 소수 :' % n, end = ' ')      # (3)\n",
    "for a in range(2, n+1) :                                # (4)\n",
    "      is_prime = isPrimeNumber(a)                        # (5)\n",
    "      if is_prime :                                      # (6)\n",
    "            print(a, end=' ')                            # (7)"
   ]
  },
  {
   "cell_type": "markdown",
   "metadata": {},
   "source": [
    "#### <span style=\"color:brown\">실습: 코드를 입력하세요</br>"
   ]
  },
  {
   "cell_type": "code",
   "execution_count": null,
   "metadata": {},
   "outputs": [],
   "source": []
  },
  {
   "cell_type": "markdown",
   "metadata": {},
   "source": [
    "#### _예제 해석_\n",
    "- (2)번\n",
    "    - 소수를 구하는 범위의 끝 수를 키보드로 입력 받아 변수 n에 저장합니다.  \n",
    "- (3)번\n",
    "    - 실행 결과 2번째 줄의 '2~30까지의 정수 중 소수:' 를 화면에 출력합니다.  \n",
    "- (4)번\n",
    "    - for 루프의 변수 a는 2에서 n까지의 값을 가지고 (5), (6), (7)의 문장을 반복 수행합니다.  \n",
    "- (5)번\n",
    "    - 우측의 isPrimeNumber(a)로 (1)에서 정의된 함수를 호출하여 함수를 수행한 결과인 변수 prime_yes를 반환합니다. \n",
    "    - 반환 값 prime_ye는 매개 변수 num이 소수이면 True가 되고, 소수가 아니면 False가 됩니다.  \n",
    "- (6)번\n",
    "    - 변수 is_prime이 참이면 (7)의 문장을 수행합니다.  \n",
    "- (7)번\n",
    "    - print(a, end='')는 실행 결과 2번째 줄의 파란색으로 표시된 소수들을 화면에 출력합니다.  \n",
    "    - end=''는 변수 a를 출력한 끝에 하나의 공백('')을 삽입하는 데 사용됩니다.  "
   ]
  },
  {
   "cell_type": "markdown",
   "metadata": {},
   "source": [
    "### <span style=\"color:violet\">Example9. 영어단어 맞추기 퀴즈</br>\n",
    "- 딕셔너리 함수 이용"
   ]
  },
  {
   "cell_type": "code",
   "execution_count": null,
   "metadata": {},
   "outputs": [],
   "source": [
    "def matchWord(in_word, answer) :                                                          # (1)\n",
    "   if in_word == answer : \n",
    "      msg = '참 잘했어요~~~' \n",
    "   else : \n",
    "      msg = '단어 공부 좀 더 해야겠어요.ㅋㅋ' \n",
    "   return msg \n",
    "\n",
    "eng_dict = {'apple':'사과', 'lion':'사자', 'book':'책', 'love':'사랑', 'friend':'친구'}    # (2)\n",
    "\n",
    "for i in eng_dict :                                                                        # (3)\n",
    "    string = input(eng_dict[i] + '에 맞는 영어 단어는? ')                                   # (4)\n",
    "    result = matchWord(string, i)                                                           # (5)\n",
    "    print(result)                                                                           # (6)"
   ]
  },
  {
   "cell_type": "markdown",
   "metadata": {},
   "source": [
    "#### <span style=\"color:brown\">실습: 코드를 입력하세요</br>"
   ]
  },
  {
   "cell_type": "code",
   "execution_count": null,
   "metadata": {},
   "outputs": [],
   "source": []
  },
  {
   "cell_type": "markdown",
   "metadata": {},
   "source": [
    "#### _예제 해석_\n",
    "- (2)번\n",
    "    - 영어와 한글 단어를 쌍으로 하는 딕셔너리 eng_dict를 생성합니다.  \n",
    "- (3)번\n",
    "    - for 루프는 딕셔너리 eng_dict의 요소가 5쌍이기 때문에 (4)~(6)의 문장이 5번 반복 수행됩니다. \n",
    "    - 이 때 반복 루프에서 사용되는 변수 i의 값은 eng_dict의 키('apple', 'lion', 'book', 'love', 'friend')가 됩니다.  \n",
    "- (4)번\n",
    "    - eng_dict[i]는 키 i를 인덱스로 한 딕셔너리의 값 ('사과', '사자', '책', '사랑', '친구')을 가집니다.  \n",
    "    - input()함수를 이용하여 해당 한글 단어에 대한 사용자의 응답을 키보드로 입력 받습니다.\n",
    "    - 실행 결과의 홀수 줄(1, 3, 5, 7, 9번째 줄)이 여기에 해당됩니다. 각가의 키보드를 입력 값은 변수 string에 저장됩니다.  \n",
    "- (5)번\n",
    "    - 우측에서 matchWord() 함수를 호출합니다.  \n",
    "- (5)번\n",
    "    - (5)의 함수에서 사용된 함수의 입력 값인 변수 string과 i는 각각 (1)에서 정의된 함수 matchWord()의 매개변수 in_word와 answer로 복사됩니다. \n",
    "    - if ~ else ~ 구문에 의해 키보드로 입력된 영어단어인 변수 in_word와 딕셔너리의 키값인 변수 i가 서로 같은지를 확인하여 해당 메시지를 변수 msg에 저장하여 함수 값으로 반환합니다.  \n",
    "- (5)번\n",
    "    - (1)의 함수 반환 값 msg를 좌측의 변수 result에 저장합니다.  \n",
    "- (6)번\n",
    "    - print()함수를 이용하여 변수 result를 화면에 출력하면 실행결과의 짝수 줄(2, 4. 6, 8, 10번째 줄)과 같이 됩니다."
   ]
  },
  {
   "cell_type": "markdown",
   "metadata": {},
   "source": [
    "### <span style=\"color:Purple\">코딩미션1. 함수를 이용하여 문자열 역순 출력하기</br>\n",
    "- 다음은 함수를 이용하여 문자열을 역순으로 출력하는 프로그램입니다. 빈 박스 안을 채워서 프로그램을 완성해 보세요.\n",
    "\n",
    "[실행결과]\n",
    "- 문자열을 입력하세요: How are you?\n",
    "- ?uoy era woH\n",
    "\n",
    "~~~python\n",
    "def strReverse(string) :\n",
    "    r_string=\"\n",
    "    index = len(string)\n",
    "    while index > 0:\n",
    "        [-----------------코드를 작성하세요----------------------]\n",
    "    return r_string\n",
    "\n",
    "in_string = input('문자열을 입력하세요:')\n",
    "print(strReverse(in_string))\n",
    "~~~"
   ]
  },
  {
   "cell_type": "markdown",
   "metadata": {},
   "source": [
    "#### <span style=\"color:brown\">실습: 코드를 입력하세요</br>"
   ]
  },
  {
   "cell_type": "code",
   "execution_count": null,
   "metadata": {},
   "outputs": [],
   "source": []
  },
  {
   "cell_type": "markdown",
   "metadata": {},
   "source": [
    "## <span style=\"color:blue\"> 7.8. 함수 활용하기-2"
   ]
  },
  {
   "cell_type": "markdown",
   "metadata": {},
   "source": [
    "### 7.8.1 map/lambda/filter함수\n",
    "#### 7.8.1.1 map 함수\n",
    "- 리스트의 요소를 지정된 함수로 처리해주는 함수\n",
    "- list(map(함수, 리스트))"
   ]
  },
  {
   "cell_type": "markdown",
   "metadata": {},
   "source": [
    "#### 리스트에 있는 소수를 정수로 변환- for문 사용\n",
    "#### <span style=\"color:brown\">실습: 실행해보세요</br>"
   ]
  },
  {
   "cell_type": "code",
   "execution_count": null,
   "metadata": {},
   "outputs": [],
   "source": [
    "data = [1.2, 2.5, 3.7, 4.6]\n",
    "for i in range(len(data)):\n",
    "    data[i] = int(data[i])\n",
    "print(data)"
   ]
  },
  {
   "cell_type": "markdown",
   "metadata": {},
   "source": [
    "#### 리스트에 있는 소수를 정수로 변환- map함수 사용\n",
    "#### <span style=\"color:brown\">실습: 실행해보세요</br>"
   ]
  },
  {
   "cell_type": "code",
   "execution_count": null,
   "metadata": {},
   "outputs": [],
   "source": [
    "data = [1.2, 2.5, 3.7, 4.6]\n",
    "data=list(map(int,data))\n",
    "print(data)"
   ]
  },
  {
   "cell_type": "markdown",
   "metadata": {},
   "source": [
    "#### 7.8.1.2 lambda 함수\n",
    "- 함수를 구현하는데 있어서 def 키워드 사용\n",
    "- lambda는 간단한 형식으로 함수를 구현\n",
    "- def 키워드 없이 한 줄로 함수를 표현\n",
    "- 함수의 인자로 이용하거나 리스트같은 자료구조의 데이터 처리에도 쓰일 수 있는 유용한 기능"
   ]
  },
  {
   "cell_type": "markdown",
   "metadata": {},
   "source": [
    "#### map 함수를 이용하여 리스트에 대해서 함수를 적용하여  변환\n",
    "#### <span style=\"color:brown\">실습: 실행해보세요</br>"
   ]
  },
  {
   "cell_type": "code",
   "execution_count": null,
   "metadata": {},
   "outputs": [],
   "source": [
    "def addOne(input) :\n",
    "    return input + 1\n",
    "\n",
    "numList = [1.1, 4.4, 2.2, 7.7] \n",
    "addOneNumList = list(map(addOne, numList))\n",
    "print(addOneNumList)"
   ]
  },
  {
   "cell_type": "markdown",
   "metadata": {},
   "source": [
    "- 위 코드에서 map 함수의 인자로 쓰인 addOne( ) 함수는 기능이 단순한 함수\n",
    "- 이런 경우에 함수를 정의하는 대신 람다를 이용하여 함수 기능 구현\n",
    "- 위 코드를 람다를 이용하여 다음과 같이 구현"
   ]
  },
  {
   "cell_type": "code",
   "execution_count": null,
   "metadata": {},
   "outputs": [],
   "source": [
    "numList = [1.1, 4.4, 2.2, 7.7] \n",
    "addOneNumList = list(map(lambda x : x + 1, numList))\n",
    "print(addOneNumList)"
   ]
  },
  {
   "cell_type": "markdown",
   "metadata": {},
   "source": [
    "#### <span style=\"color:brown\">실습: 코드를 입력하세요</br>"
   ]
  },
  {
   "cell_type": "code",
   "execution_count": null,
   "metadata": {},
   "outputs": [],
   "source": []
  },
  {
   "cell_type": "markdown",
   "metadata": {},
   "source": [
    "#### map 함수와 람다 함수를 이용하여 두 리스트간의 데이터의 곱한 결과를 가져오기\n",
    "#### <span style=\"color:brown\">실습: 실행해보세요</br>"
   ]
  },
  {
   "cell_type": "code",
   "execution_count": null,
   "metadata": {},
   "outputs": [],
   "source": [
    "numList1 = [1, 4, 2, 7]\n",
    "numList2 = [2, 3, 4, 5]\n",
    "\n",
    "MultiplyNumList = list(map(lambda x, y : x * y, numList1, numList2))\n",
    "\n",
    "print(MultiplyNumList)"
   ]
  },
  {
   "cell_type": "markdown",
   "metadata": {},
   "source": [
    "- 람다함수는 기본적으로 함수명이 존재하지 않는 익명 함수(anonymous function)\n",
    "- 함수와 비슷하게 처리할 수도 있음 \n",
    "- 유의할 점은 람다 함수내에서 새로운 변수를 설정하는 것은 허용되지 않음\n",
    "- 단, 외부 변수를 사용하는 것은 가능\n",
    "\n",
    "#### _함수명을 이용하는 lambda_\n",
    "#### <span style=\"color:brown\">실습: 실행해보세요</br>"
   ]
  },
  {
   "cell_type": "code",
   "execution_count": null,
   "metadata": {},
   "outputs": [],
   "source": [
    "addFunc = lambda  x : x + 1\n",
    "\n",
    "numList = [1.1, 4.4, 2.2, 7.7] \n",
    "addOneNumList = list(map(addFunc, numList))\n",
    "\n",
    "print(addOneNumList)"
   ]
  },
  {
   "cell_type": "markdown",
   "metadata": {},
   "source": [
    "#### 함수 호출과 비슷한 형태\n",
    "#### <span style=\"color:brown\">실습: 실행해보세요</br>"
   ]
  },
  {
   "cell_type": "code",
   "execution_count": null,
   "metadata": {},
   "outputs": [],
   "source": [
    "value = ( lambda  x : x + 1 ) ( 10 )\n",
    "print(value)"
   ]
  },
  {
   "cell_type": "markdown",
   "metadata": {},
   "source": [
    "#### 외부 변수 이용\n",
    "#### <span style=\"color:brown\">실습: 실행해보세요</br>"
   ]
  },
  {
   "cell_type": "code",
   "execution_count": null,
   "metadata": {},
   "outputs": [],
   "source": [
    "input = 5\n",
    "value = ( lambda  x : x + input) ( 10 )\n",
    "print(value)"
   ]
  },
  {
   "cell_type": "markdown",
   "metadata": {},
   "source": [
    "#### 매개 변수 없는\n",
    "#### <span style=\"color:brown\">실습: 실행해보세요</br>"
   ]
  },
  {
   "cell_type": "code",
   "execution_count": null,
   "metadata": {},
   "outputs": [],
   "source": [
    "input = 5\n",
    "value = ( lambda :  input) ( )\n",
    "print(value)"
   ]
  },
  {
   "cell_type": "markdown",
   "metadata": {},
   "source": [
    "- map 함수내에서 람다를 이용하여 코드를 구현할 때  if 조건문 사용 가능 \n",
    "- 다만 if 조건문 사용시 반드시 else 문도 써야 하며 elif 도 사용할 수 없는 제약이 있음\n",
    "- 따라서 조건인 여러 가지인 경우는 복잡한 구성이 이루어지게 됨\n",
    "- 람다 함수는 비교적 단순한 함수를 대체하고자 하는 것이 목적\n",
    "- 코드가 복잡해지는 경우는 굳이  람다 함수대신 함수로 구현하는 것이 좋은 방법"
   ]
  },
  {
   "cell_type": "markdown",
   "metadata": {},
   "source": [
    "**map 함수와 람다 함수내에 if ~ else 조건문을 이용하여  \n",
    "리스트의 데이터에서 짝수만 문자열로 변환**\n",
    "#### <span style=\"color:brown\">실습: 실행해보세요</br>"
   ]
  },
  {
   "cell_type": "code",
   "execution_count": null,
   "metadata": {},
   "outputs": [],
   "source": [
    "numList = list(range(10))\n",
    "print(numList)\n",
    "\n",
    "evenNumList = list(map(lambda x : str(x) if x % 2 == 0 else x , numList))\n",
    "print(evenNumList)"
   ]
  },
  {
   "cell_type": "markdown",
   "metadata": {},
   "source": [
    "#### 7.8.1.3. filter 함수\n",
    "- map 함수 이외에도 컬렉션과 어울려 코딩을 수월하게 해주는 filter 함수가 있음\n",
    "- filter 함수는 해당 조건에 맞는 데이터만 추출할 수 있는 함수\n",
    "- filter 함수내에 정의된 람다 함수의 조건값이 True 일 경우에 해당하는 데이터값만 추려냄"
   ]
  },
  {
   "cell_type": "markdown",
   "metadata": {},
   "source": [
    "#### filter 함수와 람다 함수를  이용하여 리스트의 데이터에서 짝수 추출\n",
    "#### <span style=\"color:brown\">실습: 실행해보세요</br>"
   ]
  },
  {
   "cell_type": "code",
   "execution_count": null,
   "metadata": {},
   "outputs": [],
   "source": [
    "numList = list(range(10))\n",
    "print(numList)\n",
    "\n",
    "evenNumList = list(filter(lambda x :  x % 2 == 0  , numList))\n",
    "print(evenNumList)"
   ]
  },
  {
   "cell_type": "markdown",
   "metadata": {},
   "source": [
    "#### filter 함수와 람다 함수를  이용하여 리스트의 데이터에서 특정 범위의 수를 구하기\n",
    "#### <span style=\"color:brown\">실습: 실행해보세요</br>"
   ]
  },
  {
   "cell_type": "code",
   "execution_count": null,
   "metadata": {},
   "outputs": [],
   "source": [
    "numList = list(range(20))\n",
    "print(numList)\n",
    "\n",
    "evenNumList = list(filter(lambda x :  x % 2 == 0 and  ( x > 10 and x < 18 )   , numList))\n",
    "print(evenNumList)"
   ]
  },
  {
   "cell_type": "markdown",
   "metadata": {},
   "source": [
    "### 7.8.2 중첩함수 및 closure 함수"
   ]
  },
  {
   "cell_type": "markdown",
   "metadata": {},
   "source": [
    "- 함수내에 다시 함수를 정의하는 것\n",
    "\n",
    "~~~python\n",
    "def fn() :\n",
    "    def printName() :\n",
    "        print('KIAPI')\n",
    "        \n",
    "    printName()\n",
    "    \n",
    "fn()\n",
    "~~~"
   ]
  },
  {
   "cell_type": "markdown",
   "metadata": {},
   "source": [
    "#### <span style=\"color:brown\">실습: 실행해보세요</br>"
   ]
  },
  {
   "cell_type": "code",
   "execution_count": null,
   "metadata": {},
   "outputs": [],
   "source": [
    "def fn() :\n",
    "    def printName() :\n",
    "        print('KIAPI')\n",
    "        \n",
    "    printName()\n",
    "    \n",
    "fn()"
   ]
  },
  {
   "cell_type": "markdown",
   "metadata": {},
   "source": [
    "- 중첩 함수내에 지역 변수 설정\n",
    "\n",
    "~~~python\n",
    "def fn() :\n",
    "    name = 'KIAPI'\n",
    "    def printName() :\n",
    "        print(name)\n",
    "        \n",
    "    printName()\n",
    "    \n",
    "fn()\n",
    "~~~"
   ]
  },
  {
   "cell_type": "markdown",
   "metadata": {},
   "source": [
    "#### <span style=\"color:brown\">실습: 실행해보세요</br>"
   ]
  },
  {
   "cell_type": "code",
   "execution_count": null,
   "metadata": {},
   "outputs": [],
   "source": [
    "def fn() :\n",
    "    name = 'KIAPI'\n",
    "    def printName() :\n",
    "        print(name)\n",
    "        \n",
    "    printName()\n",
    "    \n",
    "fn()"
   ]
  },
  {
   "cell_type": "markdown",
   "metadata": {},
   "source": [
    "- 중첩 함수내에서 지역 변수를 수정 시도 \n",
    "\n",
    "~~~python\n",
    "def fn() :\n",
    "    name = 'KIAPI'\n",
    "    def printName() :\n",
    "        name = 'HuStar'\n",
    "    \n",
    "    printName()\n",
    "    print()\n",
    "        \n",
    "fn()\n",
    "~~~"
   ]
  },
  {
   "cell_type": "markdown",
   "metadata": {},
   "source": [
    "#### <span style=\"color:brown\">실습: 실행해보세요</br>"
   ]
  },
  {
   "cell_type": "code",
   "execution_count": null,
   "metadata": {},
   "outputs": [],
   "source": [
    "def fn() :\n",
    "    name = 'KIAPI'\n",
    "    def printName() :\n",
    "        name = 'HuStar'\n",
    "    \n",
    "    printName()\n",
    "    print(name)\n",
    "        \n",
    "fn()"
   ]
  },
  {
   "cell_type": "markdown",
   "metadata": {},
   "source": [
    "- 지역 변수 값이 기존 원래 값으로만 나타남\n",
    "\n",
    "- 함수 바깥쪽에 있는 변수를 수정하기 위해서는 nonlocal 키워드 적용"
   ]
  },
  {
   "cell_type": "markdown",
   "metadata": {},
   "source": [
    "#### <span style=\"color:brown\">실습: 실행해보세요</br>"
   ]
  },
  {
   "cell_type": "code",
   "execution_count": null,
   "metadata": {},
   "outputs": [],
   "source": [
    "def fn() :\n",
    "    name = 'KIAPI'\n",
    "    def printName() :\n",
    "        nonlocal name\n",
    "        name = 'HuStar'\n",
    "    \n",
    "    printName()\n",
    "    print(name)\n",
    "        \n",
    "fn()"
   ]
  },
  {
   "cell_type": "markdown",
   "metadata": {},
   "source": [
    "- 중첩 함수내에서 전역 변수 사용하기\n",
    "\n",
    "~~~python\n",
    "number = 1\n",
    "\n",
    "def addOne() :\n",
    "    number  = number + 1\n",
    "    print(number)\n",
    "    \n",
    "    \n",
    "addOne()\n",
    "~~~"
   ]
  },
  {
   "cell_type": "markdown",
   "metadata": {},
   "source": [
    "#### <span style=\"color:brown\">실습: 실행해보세요</br>"
   ]
  },
  {
   "cell_type": "code",
   "execution_count": null,
   "metadata": {},
   "outputs": [],
   "source": [
    "number = 1\n",
    "\n",
    "def addOne() :\n",
    "    number  = number + 1\n",
    "    print(number)\n",
    "    \n",
    "    \n",
    "addOne()"
   ]
  },
  {
   "cell_type": "markdown",
   "metadata": {},
   "source": [
    "- 전역 변수를 사용하기 위한 global 키워드"
   ]
  },
  {
   "cell_type": "code",
   "execution_count": null,
   "metadata": {},
   "outputs": [],
   "source": [
    "number = 1\n",
    "\n",
    "def addOne() :\n",
    "    global number\n",
    "    number  = number + 1\n",
    "    print(number)\n",
    "    \n",
    "    \n",
    "addOne()"
   ]
  },
  {
   "cell_type": "markdown",
   "metadata": {},
   "source": [
    "#### 클로저가 되기 위한 세가지 기본 요구사항\n",
    "- 함수를 둘러싼 환경(지역 변수, 코드 등)을 계속 유지하다가, 함수를 호출할 때 다시 꺼내서 사용하는 함수를 클로저(closure)라고 함\n",
    "- 중첩 함수로 이루어져야 함\n",
    "- 중첩 함수 내부에 있는 함수는 둘러싸고 있는 함수에서 정의된 변수를 참조하고 있어야 함\n",
    "- 내부 함수를 둘러싸고 있는 중첩함수는 내부 함수를 반환해야 함"
   ]
  },
  {
   "cell_type": "markdown",
   "metadata": {},
   "source": [
    "#### <span style=\"color:brown\">실습: 실행해보세요</br>"
   ]
  },
  {
   "cell_type": "code",
   "execution_count": null,
   "metadata": {},
   "outputs": [],
   "source": [
    "def count() :\n",
    "    n = 0;\n",
    "    def called() :\n",
    "        nonlocal n\n",
    "        n = n + 1\n",
    "        print('호출횟수:', n)\n",
    "        \n",
    "    return called\n",
    " \n",
    "counter = count()\n",
    "\n",
    "counter()\n",
    "counter()\n",
    "counter()"
   ]
  },
  {
   "cell_type": "markdown",
   "metadata": {},
   "source": [
    "- count( ) 함수내애 정의된 n 이라는 변수는 함수내에 정의된 지역변수\n",
    "- 중첩함수 내부에 있는 called( ) 라는 함수는 그 변수의 값을 화면에 출력\n",
    "- counter( ) 가 호출될 때마다 이전값을 유지하면서 하나씩 증가\n",
    "\n",
    "- 즉, 클로저는 함수의 상태를 유지하면서 이와 관련된 코드를 작성할 수 있는 토대 제공\n",
    "- 클로저의 특징은 다음과 같은 이점을 제공\n",
    "    - 함수의 상태값을 보존하기 위해 전역 변수를 설정할 필요가 없음\n",
    "    - 함수 내부의 코드를 은닉할 수 있는 기능 \n",
    "        - 클로저 내부변수는 외부에서 접근할 수 없기 때문"
   ]
  }
 ],
 "metadata": {
  "kernelspec": {
   "display_name": "Python 3 (ipykernel)",
   "language": "python",
   "name": "python3"
  },
  "language_info": {
   "codemirror_mode": {
    "name": "ipython",
    "version": 3
   },
   "file_extension": ".py",
   "mimetype": "text/x-python",
   "name": "python",
   "nbconvert_exporter": "python",
   "pygments_lexer": "ipython3",
   "version": "3.9.7"
  }
 },
 "nbformat": 4,
 "nbformat_minor": 4
}
