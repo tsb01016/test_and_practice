{
 "cells": [
  {
   "cell_type": "markdown",
   "metadata": {},
   "source": [
    "### <span style=\"color:Orange\">Test1. 정수 합계 구하기</br>\n",
    "- 다음 함수의 매개변수를 이용하여 정수의 합계를 구하는 프로그램입니다. 빈칸을 채워보세요.\n",
    "\n",
    "|<center>실행결과</center>|\n",
    "|:-|\n",
    "| 1 ~ 10의 정수의 합계 : 55 |\n",
    "| 100 ~ 200의 정수의 합계 : 15150 |\n",
    "| 200 ~ 300의 정수의 합계 : 25250 |\n",
    "\n",
    "~~~python\n",
    "def sum(______, ______) :\n",
    "    hap = 0\n",
    "    for i in range(start, end+1) :\n",
    "        hap = hap + i\n",
    "    print('%d ~ %d의 정수의 합계 : %d' % (start, end, ______))\n",
    "    \n",
    "sum(1, 10)\n",
    "sum(______, 200)\n",
    "sum(200, ______)\n",
    "~~~"
   ]
  },
  {
   "cell_type": "markdown",
   "metadata": {},
   "source": [
    "### <span style=\"color:Red\"> 정답:"
   ]
  },
  {
   "cell_type": "code",
   "execution_count": 1,
   "metadata": {},
   "outputs": [
    {
     "name": "stdout",
     "output_type": "stream",
     "text": [
      "1 ~ 10의 정수의 합계 : 55\n",
      "100 ~ 200의 정수의 합계 : 15150\n",
      "200 ~ 300의 정수의 합계 : 25250\n"
     ]
    }
   ],
   "source": [
    "def sum(start, end) :\n",
    "    hap = 0\n",
    "    for i in range(start, end+1) :\n",
    "        hap = hap + i\n",
    "    print('%d ~ %d의 정수의 합계 : %d' % (start, end, hap))\n",
    "    \n",
    "sum(1, 10)\n",
    "sum(100, 200)\n",
    "sum(200, 300)"
   ]
  },
  {
   "cell_type": "markdown",
   "metadata": {},
   "source": [
    "### <span style=\"color:Orange\">Test2. 원의 면적과 원주 길이 구하기</br>\n",
    "- 다음 함수의 매개변수를 이용하여 정수의 합계를 구하는 프로그램입니다. 빈칸을 채워보세요.\n",
    "\n",
    "|<center>실행결과</center>|\n",
    "|:-|\n",
    "| 반지름을 입력하세요 : 5 |\n",
    "| 원의면적 : 78.50, 원주의 길이 : 31.40 |\n",
    "\n",
    "~~~python\n",
    "def cir_area(________) :\n",
    "    area = radius * radius * 3.14\n",
    "    return ________\n",
    "\n",
    "def cir_circum(radius) :\n",
    "    circum = 2 * 3.14 * ________\n",
    "    return ________\n",
    "\n",
    "r = float(input('반지름을 입력하세요: '))\n",
    "a = cir_area(r)\n",
    "________ = cir_circum(r)\n",
    "print('원의 면적 : %.2f, 원주의 길이 :%.2f' % (________, b))\n",
    "\n",
    "~~~"
   ]
  },
  {
   "cell_type": "markdown",
   "metadata": {},
   "source": [
    "### <span style=\"color:Red\"> 정답:"
   ]
  },
  {
   "cell_type": "code",
   "execution_count": 3,
   "metadata": {},
   "outputs": [
    {
     "name": "stdout",
     "output_type": "stream",
     "text": [
      "반지름을 입력하세요: 5\n",
      "원의 면적 : 78.50, 원주의 길이 :31.40\n"
     ]
    }
   ],
   "source": [
    "def cir_area(radius) :\n",
    "    area = radius * radius * 3.14\n",
    "    return area\n",
    "\n",
    "def cir_circum(radius) :\n",
    "    circum = 2 * 3.14 * radius\n",
    "    return circum\n",
    "\n",
    "r = float(input('반지름을 입력하세요: '))\n",
    "a = cir_area(r)\n",
    "b = cir_circum(r)\n",
    "print('원의 면적 : %.2f, 원주의 길이 :%.2f' % (a, b))"
   ]
  },
  {
   "cell_type": "markdown",
   "metadata": {},
   "source": [
    "### 실습: 실행해보세요.(예제3) 해설\n",
    "- 에러 발생 이유를 적어보세요\n",
    "    - 파이썬에서는 함수의 매개변수에 값을 할당시 키워드 인자 방식으로   \n",
    "      하면 변수들의 위치가 달라져도 키워드 기반으로 인식하기 때문에 정상적으로 처리\n",
    "    - 키워드 인자 방식으로 값을 설정하는 경우에는 다음에 위치하는 매개변수 인자도 동일하게 키워드 인자 방식으로 값을 설정해주면 에러를 방지할수 있음 "
   ]
  },
  {
   "cell_type": "markdown",
   "metadata": {},
   "source": [
    "### <span style=\"color:Purple\">코딩미션1. 함수를 이용하여 문자열 역순 출력하기</br>\n",
    "- 다음은 함수를 이용하여 문자열을 역순으로 출력하는 프로그램입니다. 빈 박스 안을 채워서 프로그램을 완성해 보세요.\n",
    "\n",
    "[실행결과]\n",
    "- 문자열을 입력하세요: How are you?\n",
    "- ?uoy era woH\n",
    "\n",
    "~~~python\n",
    "def strReverse(string) :\n",
    "    r_string=\"\n",
    "    index = len(string)\n",
    "    while index > 0:\n",
    "        [-----------------코드를 작성하세요----------------------]\n",
    "    return r_string\n",
    "\n",
    "in_string = input('문자열을 입력하세요:')\n",
    "print(strReverse(in_string))\n",
    "~~~"
   ]
  },
  {
   "cell_type": "code",
   "execution_count": 2,
   "metadata": {},
   "outputs": [
    {
     "name": "stdout",
     "output_type": "stream",
     "text": [
      "문자열을 입력하세요:How are you?\n",
      "?uoy era woH\n"
     ]
    }
   ],
   "source": [
    "def strReverse(string) :\n",
    "    r_string=''\n",
    "    index = len(string)\n",
    "    while index > 0:\n",
    "        index=index-1\n",
    "        r_string = r_string + string[index]\n",
    "    return r_string\n",
    "\n",
    "in_string = input('문자열을 입력하세요:')\n",
    "print(strReverse(in_string))"
   ]
  },
  {
   "cell_type": "code",
   "execution_count": 8,
   "metadata": {},
   "outputs": [
    {
     "name": "stdout",
     "output_type": "stream",
     "text": [
      "문자열을 입력하세요:How are you?\n",
      "?uoy era woH\n"
     ]
    }
   ],
   "source": [
    "def strReverse(string) :\n",
    "    r_string=''\n",
    "    r_string=r_string.join(reversed(string))\n",
    "    return r_string\n",
    "\n",
    "in_string = input('문자열을 입력하세요:')\n",
    "print(strReverse(in_string))"
   ]
  },
  {
   "cell_type": "code",
   "execution_count": 2,
   "metadata": {},
   "outputs": [
    {
     "name": "stdout",
     "output_type": "stream",
     "text": [
      "문자열을 입력하세요:How are you?\n",
      "?uoy era woH\n"
     ]
    }
   ],
   "source": [
    "def strReverse(string) :\n",
    "    r_string=''.join(reversed(string))\n",
    "    return r_string\n",
    "\n",
    "in_string = input('문자열을 입력하세요:')\n",
    "print(strReverse(in_string))"
   ]
  },
  {
   "cell_type": "code",
   "execution_count": 5,
   "metadata": {},
   "outputs": [
    {
     "name": "stdout",
     "output_type": "stream",
     "text": [
      "문자열을 입력하세요:How are you?\\\n",
      "\\?uoy era woH\n"
     ]
    }
   ],
   "source": [
    "def strReverse(string) :\n",
    "    r_string=string[::-1]\n",
    "    return r_string\n",
    "\n",
    "in_string = input('문자열을 입력하세요:')\n",
    "print(strReverse(in_string))"
   ]
  },
  {
   "cell_type": "code",
   "execution_count": null,
   "metadata": {},
   "outputs": [],
   "source": []
  }
 ],
 "metadata": {
  "kernelspec": {
   "display_name": "Python 3",
   "language": "python",
   "name": "python3"
  },
  "language_info": {
   "codemirror_mode": {
    "name": "ipython",
    "version": 3
   },
   "file_extension": ".py",
   "mimetype": "text/x-python",
   "name": "python",
   "nbconvert_exporter": "python",
   "pygments_lexer": "ipython3",
   "version": "3.7.6"
  }
 },
 "nbformat": 4,
 "nbformat_minor": 4
}
