{
 "cells": [
  {
   "cell_type": "markdown",
   "metadata": {},
   "source": [
    "# <center> <span style=\"color:IndianRed\"> Chapter9. Module and Packages </center>\n",
    "\n",
    "## 윤윤기 선임연구원(KIAPI)/Ph.D\n",
    "### e-mail : mecha8404@nate.com\n",
    "### Ref. 스타트파이썬(코딩스쿨), 점프투파이썬(이지스퍼블리싱), 이젠나도 파이썬(성안당)\n",
    "### 참고 사이트: https://saksin.tistory.com/926 , https://offbyone.tistory.com/106 , https://wikidocs.net/16064    "
   ]
  },
  {
   "cell_type": "markdown",
   "metadata": {},
   "source": [
    "## 코드 실습 방법\n",
    "-  ctrl + enter 또는 메뉴 Run 클릭 : 셀 실행\n",
    "-  shift + enter : 셀 실행 후 셀 추가"
   ]
  },
  {
   "cell_type": "markdown",
   "metadata": {},
   "source": [
    "## 변수 초기화 코드"
   ]
  },
  {
   "cell_type": "code",
   "execution_count": null,
   "metadata": {},
   "outputs": [],
   "source": [
    "all = [var for var in globals() if var[0] != \"_\"]\n",
    "for var in all:\n",
    "    del globals()[var]"
   ]
  },
  {
   "cell_type": "markdown",
   "metadata": {},
   "source": [
    "## <span style=\"color:blue\"> 9.1. 모듈과 패키지란?"
   ]
  },
  {
   "cell_type": "markdown",
   "metadata": {},
   "source": [
    "### 모듈\n",
    "- 공통적으로 사용되는 변수, 함수, 클래스들을 별도의 파일에 저장해 놓고 작성하는 프로그램에서 이를 불러다 쓰는 용도로 사용되는 것을 모듈이라함\n",
    "- 파일로 이루어진 모듈은 다른 파이썬 파일 그리고 다른 실행환경에서 import하여 사용할 수 있음\n",
    "\n",
    "### 패키지\n",
    "- 모듈을 모은 컬렉션을 말함\n",
    "- 도트(.)를 사용하여 파이썬 모듈을 계층적(디렉터리 구조)으로 관리할 수 있게 해줌\n",
    "- 패키지내 각 디렉토리에는 __init__.py 가 반드시 존재해야함(__init__.py 파일은 비어 있을수도 있고, 또한 패키지내에 포함된 모듈들의 정보를 제공함)\n",
    "- 모듈이 모여 있는 디렉토리라도 init.py 파일이 없으면 패키지로 인식안함\n",
    "  * python3.3 버전부터 init.py 파일이 없어도 패키지로 인식하지만, 하위버전 호환을 위해 init.py 파일을 생성하는 것이 안전함\n",
    "- 공동작업, 유지보수 등 여러면에서 유리함\n",
    "- 패키지 구조가 되면 다른 모듈과 이름이 겹치더라도 던 안전하게 사용함\n",
    "\n",
    "![title](ch9_image\\1_python_package.png)\n",
    "\n",
    "\n",
    "- 가상의 game 패키지 예\n",
    "\n",
    "~~~python\n",
    "game/\n",
    "    __init__.py\n",
    "    sound/\n",
    "        __init__.py\n",
    "        echo.py\n",
    "        wav.py\n",
    "    graphic/\n",
    "        __init__.py\n",
    "        screen.py\n",
    "        render.py\n",
    "    play/\n",
    "        __init__.py\n",
    "        run.py\n",
    "        test.py\n",
    "~~~"
   ]
  },
  {
   "cell_type": "markdown",
   "metadata": {},
   "source": [
    "## <span style=\"color:blue\"> 9.2. 모듈 알아보기"
   ]
  },
  {
   "cell_type": "markdown",
   "metadata": {},
   "source": [
    "- 자동차의 속도 데이터를 출력할 수 있는  dispAccelX(), dispAccelY()라는 함수를 가지는 velocity.py파일을 만들어 보자\n",
    "- 아래의 코드를 작성해서 velocity1.py, velocity2.py, velocity3.py 파일을 만들기\n",
    "\n",
    "~~~python\n",
    "name = \"velocity1\"\n",
    "\n",
    "def dispAccelX():\n",
    "    print(\"0.55 m/s\")\n",
    "\n",
    "def dispAccelY():\n",
    "    print(\"-0.479 m/s\")\n",
    "~~~"
   ]
  },
  {
   "cell_type": "markdown",
   "metadata": {},
   "source": [
    "#### <span style=\"color:brown\">실습: 코드를 실행하세요</br>"
   ]
  },
  {
   "cell_type": "code",
   "execution_count": null,
   "metadata": {},
   "outputs": [],
   "source": [
    "import velocity1\n",
    "\n",
    "velocity1.dispAccelX()\n",
    "velocity1.dispAccelY()"
   ]
  },
  {
   "cell_type": "markdown",
   "metadata": {},
   "source": [
    "- import를 이용하여 모듈을 사용할 수 있음\n",
    "- 또 다른 방법으로는 from velocity import dispAccelX"
   ]
  },
  {
   "cell_type": "markdown",
   "metadata": {},
   "source": [
    "#### <span style=\"color:brown\">실습: 코드를 실행하세요. 그리고 오류를 해결하세요.</br>"
   ]
  },
  {
   "cell_type": "code",
   "execution_count": null,
   "metadata": {},
   "outputs": [],
   "source": [
    "from velocity2 import dispAccelX\n",
    "\n",
    "dispAccelX()\n",
    "dispAccelY()"
   ]
  },
  {
   "cell_type": "markdown",
   "metadata": {},
   "source": [
    "#### <span style=\"color:brown\">실습: 코드를 실행하세요.</br>"
   ]
  },
  {
   "cell_type": "code",
   "execution_count": null,
   "metadata": {},
   "outputs": [],
   "source": [
    "from velocity3 import *\n",
    "\n",
    "dispAccelX()\n",
    "dispAccelY()"
   ]
  },
  {
   "cell_type": "markdown",
   "metadata": {},
   "source": [
    "## <span style=\"color:blue\"> 9.3. 모듈과 경로"
   ]
  },
  {
   "cell_type": "markdown",
   "metadata": {},
   "source": [
    "#### 파이썬 모듈을 import 할 경우 아래의 순서로 해당 모듈을 찾음\n",
    "- 1. 현재 작업 디렉토리\n",
    "- 2. PYTHONPATH 환경변수에 등록된 디렉토리\n",
    "- 3. 표준라이브러리 디렉토리 : 예) C:\\Python27\\Lib"
   ]
  },
  {
   "cell_type": "markdown",
   "metadata": {},
   "source": [
    "#### 클래스나 변수 등을 포함한 모듈\n",
    "- 아래의 코드를 작성하고 mod2.py 파일을 만들기\n",
    "- 파일은 C:\\Users\\user\\python_lecture\\chapter09_module and packages 에 놔두기(각 컴퓨터마다 경로는 다를 수 있음)\n",
    "\n",
    "~~~python\n",
    "# mod2.py\n",
    "PI = 3.141592\n",
    "\n",
    "class Math:\n",
    "    def solv(self, r):\n",
    "        return PI * (r ** 2)\n",
    "def add(a,b):\n",
    "    return a+b\n",
    "~~~"
   ]
  },
  {
   "cell_type": "code",
   "execution_count": null,
   "metadata": {},
   "outputs": [],
   "source": [
    "import mod2\n",
    "\n",
    "print(mod2.PI)\n",
    "\n",
    "a=mod2.Math()\n",
    "print(a.solv(2))\n"
   ]
  },
  {
   "cell_type": "markdown",
   "metadata": {},
   "source": [
    "#### <span style=\"color:brown\">실습: 코드를 입력하세요.</br>"
   ]
  },
  {
   "cell_type": "code",
   "execution_count": null,
   "metadata": {},
   "outputs": [],
   "source": []
  },
  {
   "cell_type": "markdown",
   "metadata": {},
   "source": [
    "- 파일을 C:\\Users\\user\\python_lecture에 옮겨서 위의 코드를 실행해보세요.(각 컴퓨터마다 경로는 다를 수 있음)"
   ]
  },
  {
   "cell_type": "markdown",
   "metadata": {},
   "source": [
    "#### 다른 파일에서 모듈 불러오기\n",
    "- 아래의 코드를 작성하여 mod3.py 만들기(폴더는 C:\\Users\\user\\python_lecture)(각 컴퓨터마다 경로는 다를 수 있음)\n",
    "\n",
    "~~~python\n",
    "# mod3.py\n",
    "PI = 3.141592\n",
    "\n",
    "class Math:\n",
    "    def solv(self, r):\n",
    "        return PI * (r ** 2)\n",
    "    def sub(a,b):\n",
    "        return a-b\n",
    "~~~\n",
    "- cmd를 이용하여 prompt 실행 후 아래의 내용을 순서대로 입력(각 컴퓨터마다 경로는 다를 수 있음)\n",
    "- 디렉토리 변경: cd C:\\Users\\user\\python_lecture\n",
    "- 폴더 생성: mkdir mymod\n",
    "- 파일 이동: move mod3.py mymod\n"
   ]
  },
  {
   "cell_type": "code",
   "execution_count": 1,
   "metadata": {},
   "outputs": [
    {
     "data": {
      "text/plain": [
       "['/home/turtlemaster/jupyter_ws/python_lecture/chapter09_module_and_packages',\n",
       " '',\n",
       " '/opt/ros/foxy/lib/python3.8/site-packages',\n",
       " '/home/turtlemaster/anaconda3/lib/python39.zip',\n",
       " '/home/turtlemaster/anaconda3/lib/python3.9',\n",
       " '/home/turtlemaster/anaconda3/lib/python3.9/lib-dynload',\n",
       " '/home/turtlemaster/.local/lib/python3.9/site-packages',\n",
       " '/home/turtlemaster/anaconda3/lib/python3.9/site-packages',\n",
       " '/home/turtlemaster/anaconda3/lib/python3.9/site-packages/locket-0.2.1-py3.9.egg',\n",
       " '/home/turtlemaster/anaconda3/lib/python3.9/site-packages/IPython/extensions',\n",
       " '/home/turtlemaster/.ipython']"
      ]
     },
     "execution_count": 1,
     "metadata": {},
     "output_type": "execute_result"
    }
   ],
   "source": [
    "import sys\n",
    "\n",
    "sys.path"
   ]
  },
  {
   "cell_type": "markdown",
   "metadata": {},
   "source": [
    "#### <span style=\"color:brown\">실습: 코드를 입력하세요.</br>"
   ]
  },
  {
   "cell_type": "code",
   "execution_count": null,
   "metadata": {},
   "outputs": [],
   "source": []
  },
  {
   "cell_type": "code",
   "execution_count": 2,
   "metadata": {},
   "outputs": [
    {
     "data": {
      "text/plain": [
       "['/home/turtlemaster/jupyter_ws/python_lecture/chapter09_module_and_packages',\n",
       " '',\n",
       " '/opt/ros/foxy/lib/python3.8/site-packages',\n",
       " '/home/turtlemaster/anaconda3/lib/python39.zip',\n",
       " '/home/turtlemaster/anaconda3/lib/python3.9',\n",
       " '/home/turtlemaster/anaconda3/lib/python3.9/lib-dynload',\n",
       " '/home/turtlemaster/.local/lib/python3.9/site-packages',\n",
       " '/home/turtlemaster/anaconda3/lib/python3.9/site-packages',\n",
       " '/home/turtlemaster/anaconda3/lib/python3.9/site-packages/locket-0.2.1-py3.9.egg',\n",
       " '/home/turtlemaster/anaconda3/lib/python3.9/site-packages/IPython/extensions',\n",
       " '/home/turtlemaster/.ipython',\n",
       " 'C:/Users/user/python_lecture_강사용/chapter09_module_and_packages/mymod']"
      ]
     },
     "execution_count": 2,
     "metadata": {},
     "output_type": "execute_result"
    }
   ],
   "source": [
    "# 각 컴퓨터마다 경로는 다를 수 있음\n",
    "sys.path.append(\"C:/Users/user/python_lecture_강사용/chapter09_module_and_packages/mymod\")\n",
    "\n",
    "sys.path"
   ]
  },
  {
   "cell_type": "markdown",
   "metadata": {},
   "source": [
    "#### <span style=\"color:brown\">실습: 코드를 입력하세요.</br>"
   ]
  },
  {
   "cell_type": "code",
   "execution_count": null,
   "metadata": {},
   "outputs": [],
   "source": []
  },
  {
   "cell_type": "code",
   "execution_count": null,
   "metadata": {},
   "outputs": [],
   "source": [
    "import mod3\n",
    "\n",
    "print(mod3.subb(6,5))"
   ]
  },
  {
   "cell_type": "markdown",
   "metadata": {},
   "source": [
    "#### <span style=\"color:brown\">실습: 코드를 입력하세요.</br>"
   ]
  },
  {
   "cell_type": "code",
   "execution_count": null,
   "metadata": {},
   "outputs": [],
   "source": []
  },
  {
   "cell_type": "markdown",
   "metadata": {},
   "source": [
    "#### 다른 파일에서 모듈 불러오기\n",
    "- 아래의 코드를 작성하여 mod4.py 만들기(폴더는 C:/Users/YYK/python_lecture/chapter09_module_and_packages/mymod2)(각 컴퓨터마다 경로는 다를 수 있음)\n",
    "\n",
    "~~~python\n",
    "# mod4.py\n",
    "PI = 3.141592\n",
    "\n",
    "class Math:\n",
    "    def solv(self, r):\n",
    "        return PI * (r ** 2)\n",
    "    def multiply(a,b):\n",
    "        return a*b\n",
    "~~~\n",
    "- cmd를 이용하여 prompt 실행 후 아래의 내용을 순서대로 입력\n",
    "- 파이썬 경로 설정\n",
    "    - 내컴퓨터 오른쪽 마우스클릭하여 속성 들어가기\n",
    "    - 고급시스템설정 들어간 후 환경변수 클릭\n",
    "    - 시스템변수에 새로만들기 클릭\n",
    "    - 변수이름은 PYTHONPATH 로 설정\n",
    "    - 변수 값은 해당 경로 인 C:\\Users\\YYK\\python_lecture\\chapter09_module_and_packages\\mymod2 를 입력"
   ]
  },
  {
   "cell_type": "code",
   "execution_count": null,
   "metadata": {},
   "outputs": [],
   "source": [
    "import mod4\n",
    "\n",
    "print(mod4.multiply(3,3))"
   ]
  },
  {
   "cell_type": "markdown",
   "metadata": {},
   "source": [
    "#### <span style=\"color:brown\">실습: 코드를 입력하세요.</br>"
   ]
  },
  {
   "cell_type": "code",
   "execution_count": null,
   "metadata": {},
   "outputs": [],
   "source": []
  },
  {
   "cell_type": "markdown",
   "metadata": {},
   "source": [
    "## <span style=\"color:blue\"> 9.4. if__name__==\"__main__\""
   ]
  },
  {
   "cell_type": "markdown",
   "metadata": {},
   "source": [
    "#### 파이썬 코드 실행 방식\n",
    "- C언어, 자바 --> main()함수가 존재함\n",
    "- main()함수를 시작으로 프로그램 실행함\n",
    "- 파이썬은 main() 함수가 존재하지 않음\n",
    "\n",
    "#### 파이썬의 두가지 특징\n",
    "\n",
    "1. 들여쓰기를 통해 코드 실행 레벨을 결정\n",
    "2. main 이 존재하지 않음\n",
    "\n",
    "#### _파이썬은 main 문이 없기 때문에 들여쓰기가 되지 않은 레벨0 코드를 가장 먼저 수행함_\n",
    "\n",
    "\n",
    "- C 코드\n",
    "~~~python\n",
    "#include <stdio.h>\n",
    "int sumA(int a1, int a2)\n",
    "{\n",
    "    return a1+a2;\n",
    "}\n",
    "int main() {\n",
    "    printf(\"%d\", sumA(2, 2));\n",
    "\n",
    "    return 0;\n",
    "}\n",
    "~~~\n",
    "\n",
    "- python 코드\n",
    "~~~python\n",
    "def sumA(a1, a2)\n",
    "    return a1 + a2\n",
    "print(sumA(1, 1))\n",
    "~~~"
   ]
  },
  {
   "cell_type": "code",
   "execution_count": null,
   "metadata": {},
   "outputs": [],
   "source": []
  },
  {
   "cell_type": "markdown",
   "metadata": {},
   "source": [
    "#### 실험해보기\n",
    "- 아래의 코드를 작성하여 hello.py 와 mian.py를 만들어보세요.\n",
    "- 경로는 C:/Users/YYK/python_lecture/chapter09_module_and_packages 입니다.(각 컴퓨터마다 경로는 다를 수 있음)\n",
    "\n",
    "~~~python\n",
    "# hello.py\n",
    "print('hello 모듈 시작')\n",
    "print('hello.py __name__:', __name__)\n",
    "print('hello 모듈 끝')\n",
    "\n",
    "# main.py\n",
    "import hello\n",
    "print('main.py __name__:', __name__)\n",
    "~~~"
   ]
  },
  {
   "cell_type": "code",
   "execution_count": null,
   "metadata": {},
   "outputs": [],
   "source": [
    "%run main.py"
   ]
  },
  {
   "cell_type": "markdown",
   "metadata": {},
   "source": [
    "#### <span style=\"color:brown\">실습: 코드를 입력하세요.</br>"
   ]
  },
  {
   "cell_type": "code",
   "execution_count": null,
   "metadata": {},
   "outputs": [],
   "source": []
  },
  {
   "cell_type": "code",
   "execution_count": null,
   "metadata": {},
   "outputs": [],
   "source": [
    "%run hello.py"
   ]
  },
  {
   "cell_type": "markdown",
   "metadata": {},
   "source": [
    "#### <span style=\"color:brown\">실습: 코드를 입력하세요.</br>"
   ]
  },
  {
   "cell_type": "code",
   "execution_count": null,
   "metadata": {},
   "outputs": [],
   "source": []
  },
  {
   "cell_type": "markdown",
   "metadata": {},
   "source": [
    "- 어떤 스크립트 파일이든 파이썬 인터프리터가 최초로 실행한 스크립트 파일의 __name__에는 '__main__'이 들어감\n",
    "- 프로그램의 시작점(entry point)이라는 뜻임"
   ]
  },
  {
   "cell_type": "markdown",
   "metadata": {},
   "source": [
    "#### 실험해보기\n",
    "- 아래의 코드를 작성하여 calc.py를 만들어보세요.\n",
    "- 경로는 C:/Users/YYK/python_lecture/chapter09_module_and_packages 입니다.(각 컴퓨터마다 경로는 다를 수 있음)\n",
    "\n",
    "~~~python\n",
    "def add(a, b):\n",
    "    return a + b\n",
    " \n",
    "def mul(a, b):\n",
    "    return a * b\n",
    " \n",
    "print(add(10, 20))\n",
    "print(mul(10, 20))\n",
    "~~~"
   ]
  },
  {
   "cell_type": "markdown",
   "metadata": {},
   "source": [
    "#### <span style=\"color:brown\">실습: 코드를 실행하세요.</br>"
   ]
  },
  {
   "cell_type": "code",
   "execution_count": null,
   "metadata": {},
   "outputs": [],
   "source": [
    "import calc"
   ]
  },
  {
   "cell_type": "markdown",
   "metadata": {},
   "source": [
    "#### <span style=\"color:brown\">실습: 코드를 실행하세요.</br>"
   ]
  },
  {
   "cell_type": "code",
   "execution_count": null,
   "metadata": {},
   "outputs": [],
   "source": [
    "import calc_ifname"
   ]
  },
  {
   "cell_type": "markdown",
   "metadata": {},
   "source": [
    "## <span style=\"color:blue\"> 9.5. 패키지 설치하기"
   ]
  },
  {
   "cell_type": "markdown",
   "metadata": {},
   "source": [
    "#### pip(Pip Installs Packages)\n",
    "- 패키지를 설치하고 관리하는 패키지 관리자\n",
    "- python2.7.9 및 python3.4 이상 버전에는 디폴트로 설치되어 있음(만약 설치가 되어 있지 않은 경우 별도 설치가 필요함)\n",
    "    - curl https://bootstrap.pypa.io/get-pip.py | python"
   ]
  },
  {
   "cell_type": "markdown",
   "metadata": {},
   "source": [
    "#### 패키지 install/uninstall\n",
    "\n",
    "- change directory\n",
    "![title](ch9_image\\8_change_directory.png)\n",
    "\n",
    "\n",
    "- pip list\n",
    "![title](ch9_image\\2_pip_list_scripts.png)\n",
    "\n",
    "\n",
    "- pip install\n",
    "![title](ch9_image\\3_pip_install_scripts.png)\n",
    "\n",
    "\n",
    "- pip uninstall\n",
    "![title](ch9_image\\4_pip_uninstall_scripts.png)"
   ]
  },
  {
   "cell_type": "markdown",
   "metadata": {},
   "source": [
    "#### <span style=\"color:brown\">실습: 코드를 실행하세요.</br>"
   ]
  },
  {
   "cell_type": "code",
   "execution_count": null,
   "metadata": {},
   "outputs": [],
   "source": [
    "import numpy"
   ]
  },
  {
   "cell_type": "markdown",
   "metadata": {},
   "source": [
    "#### 해다 디렉토리에 패키지 install/uninstall\n",
    "\n",
    "- pip list\n",
    "![title](ch9_image\\5_pip_list.png)\n",
    "\n",
    "\n",
    "- pip install\n",
    "![title](ch9_image\\6_pip_install.png)\n",
    "\n",
    "\n",
    "- pip uninstall\n",
    "![title](ch9_image\\7_pip_uninstall.png)"
   ]
  },
  {
   "cell_type": "markdown",
   "metadata": {},
   "source": [
    "#### <span style=\"color:brown\">실습: 코드를 실행하세요.</br>"
   ]
  },
  {
   "cell_type": "code",
   "execution_count": null,
   "metadata": {},
   "outputs": [],
   "source": [
    "import numpy"
   ]
  },
  {
   "cell_type": "markdown",
   "metadata": {},
   "source": [
    "## <span style=\"color:blue\"> 9.6. 패키지 만들기"
   ]
  },
  {
   "cell_type": "markdown",
   "metadata": {},
   "source": [
    "#### 패키지 기본 구성 요소 준비하기\n",
    "1. 아래와 같이 폴더를 구성하기\n",
    "    - C:\\Users\\user\\game\\\\__init__.py\n",
    "    - C:\\Users\\user\\game\\sound\\\\__init__.py\n",
    "    - C:\\Users\\user\\game\\sound\\echo.py\n",
    "    - C:\\Users\\user\\game\\graphic\\\\__init__.py\n",
    "    - C:\\Users\\user\\game\\graphic\\render.py"
   ]
  },
  {
   "cell_type": "markdown",
   "metadata": {},
   "source": [
    "2. __init__.py 파일은 일단 비워놓기"
   ]
  },
  {
   "cell_type": "markdown",
   "metadata": {},
   "source": [
    "3. echo.py 파일에 아래와 같이 코드를 삽입\n",
    "\n",
    "~~~python\n",
    "# echo.py\n",
    "def echo_test():\n",
    "    print(\"echo\")\n",
    "~~~"
   ]
  },
  {
   "cell_type": "markdown",
   "metadata": {},
   "source": [
    "4. render.py 파일에 아래와 같이 코드를 삽입\n",
    "\n",
    "~~~python\n",
    "# render.py\n",
    "def render_test():\n",
    "    print(\"render\")\n",
    "~~~"
   ]
  },
  {
   "cell_type": "markdown",
   "metadata": {},
   "source": [
    "5. cmd 실행 후 set PYTHONPATH=C:\\Users\\user 설정 하기"
   ]
  },
  {
   "cell_type": "markdown",
   "metadata": {},
   "source": [
    "6. 패키지 안의 함수 실행하기\n",
    "    - 아래의 코드들을 순서대로 실행해보세요."
   ]
  },
  {
   "cell_type": "markdown",
   "metadata": {},
   "source": [
    "#### <span style=\"color:brown\">실습: 코드를 실행하세요.</br>"
   ]
  },
  {
   "cell_type": "code",
   "execution_count": null,
   "metadata": {},
   "outputs": [],
   "source": [
    "import game.sound.echo\n",
    "\n",
    "game.sound.echo.echo_test()"
   ]
  },
  {
   "cell_type": "code",
   "execution_count": null,
   "metadata": {},
   "outputs": [],
   "source": [
    "import sys\n",
    "\n",
    "sys.path\n",
    "\n",
    "sys.path.append(\"C:/Users/user\")\n",
    "\n",
    "sys.path"
   ]
  },
  {
   "cell_type": "markdown",
   "metadata": {},
   "source": [
    "#### <span style=\"color:brown\">실습: 코드를 입력하세요.</br>"
   ]
  },
  {
   "cell_type": "code",
   "execution_count": null,
   "metadata": {},
   "outputs": [],
   "source": []
  },
  {
   "cell_type": "code",
   "execution_count": null,
   "metadata": {},
   "outputs": [],
   "source": [
    "import game.sound.echo\n",
    "\n",
    "game.sound.echo.echo_test()"
   ]
  },
  {
   "cell_type": "markdown",
   "metadata": {},
   "source": [
    "#### <span style=\"color:brown\">실습: 코드를 입력하세요.</br>"
   ]
  },
  {
   "cell_type": "code",
   "execution_count": null,
   "metadata": {},
   "outputs": [],
   "source": [
    "from game.sound import echo\n",
    "\n",
    "echo.echo_test()"
   ]
  },
  {
   "cell_type": "code",
   "execution_count": null,
   "metadata": {},
   "outputs": [],
   "source": []
  },
  {
   "cell_type": "markdown",
   "metadata": {},
   "source": [
    "#### <span style=\"color:brown\">실습: 코드를 입력하세요.</br>"
   ]
  },
  {
   "cell_type": "code",
   "execution_count": null,
   "metadata": {},
   "outputs": [],
   "source": []
  },
  {
   "cell_type": "code",
   "execution_count": null,
   "metadata": {},
   "outputs": [],
   "source": [
    "from game.sound.echo import echo_test\n",
    "\n",
    "echo_test()"
   ]
  },
  {
   "cell_type": "markdown",
   "metadata": {},
   "source": [
    "#### <span style=\"color:brown\">실습: 코드를 입력하세요.</br>"
   ]
  },
  {
   "cell_type": "code",
   "execution_count": null,
   "metadata": {},
   "outputs": [],
   "source": []
  },
  {
   "cell_type": "code",
   "execution_count": null,
   "metadata": {},
   "outputs": [],
   "source": [
    "import game\n",
    "\n",
    "game.sound.echo.echo_test()"
   ]
  },
  {
   "cell_type": "markdown",
   "metadata": {},
   "source": [
    "#### <span style=\"color:brown\">실습: 코드를 입력하세요.</br>"
   ]
  },
  {
   "cell_type": "code",
   "execution_count": null,
   "metadata": {},
   "outputs": [],
   "source": []
  },
  {
   "cell_type": "code",
   "execution_count": null,
   "metadata": {},
   "outputs": [],
   "source": [
    "import game.sound.echo.echo_test"
   ]
  },
  {
   "cell_type": "markdown",
   "metadata": {},
   "source": [
    "#### <span style=\"color:brown\">실습: 코드를 입력하세요.</br>"
   ]
  },
  {
   "cell_type": "code",
   "execution_count": null,
   "metadata": {},
   "outputs": [],
   "source": []
  },
  {
   "cell_type": "markdown",
   "metadata": {},
   "source": [
    "#### __init__.py 의 용도\n",
    "\n",
    "- __init__.py 파일은 해당 디렉터리가 패키지의 일부임을 알려주는 역할을 함\n",
    "- game, sound, graphic 등 패키지에 포함된 디렉터리에 __init__.py이 없으면 패키지로 인식하지 않음\n",
    "- C:\\Users\\user\\game\\sound 의 __init__.py 에 __all__ = ['echo'] 로 설정"
   ]
  },
  {
   "cell_type": "code",
   "execution_count": null,
   "metadata": {},
   "outputs": [],
   "source": [
    "from game.sound import*\n",
    "\n",
    "echo.echo_test()"
   ]
  },
  {
   "cell_type": "markdown",
   "metadata": {},
   "source": [
    "#### <span style=\"color:brown\">실습: 코드를 입력하세요.</br>"
   ]
  },
  {
   "cell_type": "code",
   "execution_count": null,
   "metadata": {},
   "outputs": [],
   "source": []
  },
  {
   "cell_type": "markdown",
   "metadata": {},
   "source": [
    "### <span style=\"color:Orange\">Test1. *를 사용하여 render.py 파일 안의 render_test 함수를 사용해보자</br>"
   ]
  },
  {
   "cell_type": "markdown",
   "metadata": {},
   "source": [
    "#### <span style=\"color:brown\">실습: 코드를 만들어보세요.</br>"
   ]
  },
  {
   "cell_type": "code",
   "execution_count": null,
   "metadata": {},
   "outputs": [],
   "source": []
  },
  {
   "cell_type": "markdown",
   "metadata": {},
   "source": [
    "## <span style=\"color:blue\"> 9.7. relative 패키지"
   ]
  },
  {
   "cell_type": "code",
   "execution_count": null,
   "metadata": {},
   "outputs": [],
   "source": [
    "import sys\n",
    "\n",
    "sys.path\n",
    "\n",
    "sys.path.append(\"C:/Users/user\")\n",
    "\n",
    "sys.path"
   ]
  },
  {
   "cell_type": "markdown",
   "metadata": {},
   "source": [
    "- render.py에서 sound 디렉터리의 echo.py 모듈을 사용하는 방법\n",
    "    - render.py 를 아래와 같이 코드를 추가한다.\n",
    "\n",
    "~~~python\n",
    "# render.py\n",
    "from game.sound.echo import echo_test\n",
    "\n",
    "def render_test():\n",
    "    print(\"render\")\n",
    "    echo_test()\n",
    "~~~"
   ]
  },
  {
   "cell_type": "markdown",
   "metadata": {},
   "source": [
    "#### <span style=\"color:brown\">실습: 코드를 실행하세요.</br>"
   ]
  },
  {
   "cell_type": "code",
   "execution_count": null,
   "metadata": {},
   "outputs": [],
   "source": [
    "from game.graphic.render import render_test\n",
    "\n",
    "render_test()"
   ]
  },
  {
   "cell_type": "markdown",
   "metadata": {},
   "source": [
    "- \n",
    "    - render.py 를 아래와 같이 재수정한다.(..는 부모 디렉터리 : relative 한 접근자)\n",
    "    \n",
    "~~~python\n",
    "# render.py\n",
    "from ..sound.echo import echo_test\n",
    "\n",
    "def render_test():\n",
    "    print(\"render\")\n",
    "    echo_test()\n",
    "~~~  "
   ]
  },
  {
   "cell_type": "markdown",
   "metadata": {},
   "source": [
    "#### <span style=\"color:brown\">실습: 코드를 실행하세요.</br>"
   ]
  },
  {
   "cell_type": "code",
   "execution_count": null,
   "metadata": {},
   "outputs": [],
   "source": [
    "from game.graphic.render import render_test\n",
    "\n",
    "render_test()"
   ]
  }
 ],
 "metadata": {
  "kernelspec": {
   "display_name": "Python 3 (ipykernel)",
   "language": "python",
   "name": "python3"
  },
  "language_info": {
   "codemirror_mode": {
    "name": "ipython",
    "version": 3
   },
   "file_extension": ".py",
   "mimetype": "text/x-python",
   "name": "python",
   "nbconvert_exporter": "python",
   "pygments_lexer": "ipython3",
   "version": "3.9.7"
  }
 },
 "nbformat": 4,
 "nbformat_minor": 4
}
