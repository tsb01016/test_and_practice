{
 "cells": [
  {
   "cell_type": "markdown",
   "metadata": {},
   "source": [
    "# 부록. Jupyter notebook 활용\n",
    "\n",
    "## 윤윤기 선임연구원(KIAPI)\n",
    "### e-mail : mecha8404@nate.com<br><br>"
   ]
  },
  {
   "cell_type": "markdown",
   "metadata": {},
   "source": [
    "# 1. 서식\n",
    "\n",
    "# 제목 1\n",
    "## 제목 2\n",
    "### 제목 3\n",
    "#### 제목 4\n",
    "##### 제목5\n",
    "일반 글자\n",
    "_이탤릭_ or *이탤릭*\n",
    "__볼드__ or **볼드**\n",
    "[링크](http://kiapi.or.kr)"
   ]
  },
  {
   "cell_type": "markdown",
   "metadata": {},
   "source": [
    "# 2. 자주 사용하는 단축키\n",
    "\n",
    "- Ctrl + Enter : 셀 실행\n",
    "- Alt + Enter : 셀 실행 후 아래에 셀 삽입\n",
    "- Tab : 자동 들여쓰기\n",
    "- Ctrl + ] : 들여쓰기\n",
    "- Ctrl + s : 저장\n",
    "- Ctrl + z : undo\n",
    "- Ctrl + y : redo"
   ]
  },
  {
   "cell_type": "markdown",
   "metadata": {},
   "source": [
    "# 3. 리스트\n",
    "- 번호없는 리스트1\n",
    "* 번호없는 리스트2\n",
    "+ 번호없는 리스트3"
   ]
  },
  {
   "cell_type": "markdown",
   "metadata": {},
   "source": [
    "# 4. 수학표현식\n",
    "\n",
    "## 1) 방정식 표현 1\n",
    "\n",
    "$\n",
    "앞쪽 정렬:\n",
    "\\begin{align}\n",
    "\\dot{x} = \\sigma(x-y) \\\\\n",
    "\\dot{y} = \\rho x-y-xz \\\\\n",
    "\\dot{z} = -\\beta z + xy \\\\\n",
    "\\end{align}\n",
    "$\n",
    "\n",
    "$$\n",
    "가운데 정렬: \n",
    "\\begin{align}\n",
    "\\dot{x} = \\sigma(x-y) \\\\\n",
    "\\dot{y} = \\rho x-y-xz \\\\\n",
    "\\dot{z} = -\\beta z + xy \\\\\n",
    "\\end{align}\n",
    "$$"
   ]
  },
  {
   "cell_type": "markdown",
   "metadata": {},
   "source": [
    "## 2) 방정식 표현 2\n",
    "\n",
    "$$\n",
    "\\begin{equation*}\n",
    "\\left(\\sum_{k=1}^n a_k b_k \\right)^2\n",
    "\\leq\n",
    "\\left(\\sum_{k=1}^n a_k^2 \\right)\n",
    "\\left(\\sum_{k=1}^n b_k^2 \\right)\n",
    "\\end{equation*}\n",
    "$$"
   ]
  },
  {
   "cell_type": "markdown",
   "metadata": {},
   "source": [
    "## 3) 행렬식 표현\n",
    "\n",
    "$$\n",
    "\\mathbf{V}_1 \\times \\mathbf{V}_2\n",
    "=\n",
    "\\begin{vmatrix} \n",
    "\\mathbf{i} & \\mathbf{j} & \\mathbf{k} \\\\\n",
    "\\frac{\\partial X}{\\partial u} &  \\frac{\\partial Y}{\\partial u} & 0 \\\\\n",
    "\\frac{\\partial X}{\\partial v} &  \\frac{\\partial Y}{\\partial v} & 0 \\\\\n",
    "\\end{vmatrix}\n",
    "$$\n"
   ]
  },
  {
   "cell_type": "markdown",
   "metadata": {},
   "source": [
    "## 4) 확률 수식 표현\n",
    "\n",
    "$$\n",
    "\\begin{equation*}\n",
    "P(E) = {n \\choose k} p^k (1-p)^{n-k}\n",
    "\\end{equation*}\n",
    "$$"
   ]
  },
  {
   "cell_type": "markdown",
   "metadata": {},
   "source": [
    "## 5) 무한분수 표현\n",
    "\n",
    "$$\n",
    "\\begin{equation*}\n",
    "\\frac{1}{\\big(\\sqrt{\\phi \\sqrt{5}}-\\phi\\Bigr) e^{\\frac25 \\pi}}\n",
    "= 1+\\frac{\n",
    "e^{-2\\pi}} \n",
    "{\n",
    "1+\\frac{e^{-4\\pi}}\n",
    "{\n",
    "1+\\frac{e^{-6\\pi}}\n",
    "{\n",
    "1+\\frac{e^{-8\\pi}}\n",
    "{\n",
    "1+\\dots\n",
    "}\n",
    "}\n",
    "}\n",
    "}\n",
    "\\end{equation*}\n",
    "$$"
   ]
  },
  {
   "cell_type": "markdown",
   "metadata": {},
   "source": [
    "## 6) 등식 표현\n",
    "\n",
    "$$\n",
    "\\begin{equation*}\n",
    "1+\\frac{q^2}{(1-q)}+\\frac{q^6}{(1-q)(1-q^2)}+\\ddots =\n",
    "\\prod_{j=0}^{\\infty}\\frac{1}{(1-q^{5j+2})(1-q^{5j+3})},\n",
    "\\quad\\text{for $|q|<1$}.\n",
    "\\end{equation*}\n",
    "$$"
   ]
  },
  {
   "cell_type": "markdown",
   "metadata": {},
   "source": [
    "## 7) 맥스웰 방정시\n",
    "\n",
    "$$\n",
    "\\begin{align}\n",
    "\\nabla \\times \\vec{\\mathbf{B}} -\\, \\frac1c\\, \\frac{\\partial\\vec{\\mathbf{E}}}\n",
    "{\\partial t} & = \\frac{4\\pi}{c}\\vec{\\mathbf{j}} \\\\\n",
    "\\nabla \\cdot \\vec{\\mathbf{E}} & = 4 \\pi\\rho \\\\\n",
    "\\nabla \\times \\vec{\\mathbf{E}} +\\, \\frac1c\\, \\frac{\\partial\\vec{\\mathbf{B}}}\n",
    "{\\partial t} & = \\vec{\\mathbf{0}} \\\\\n",
    "\\nabla \\cdot \\vec{\\mathbf{B}} & = 0\n",
    "\\end{align}\n",
    "$$"
   ]
  },
  {
   "cell_type": "markdown",
   "metadata": {},
   "source": [
    "## 8) 문장속의 수식 표현\n",
    "\n",
    "This expression $\\sqrt{3x-1}+(1+x)^2$ is an example of a TeX inline equation in a [Markdown-formatted](http://daringfireball.net/projects/markdown/) sentence."
   ]
  },
  {
   "cell_type": "markdown",
   "metadata": {},
   "source": [
    "## 9) 그외 표현들\n",
    "\n",
    "$$\n",
    "\\begin{eqnarray}\n",
    "x' &=& &x \\sin\\phi &+& z \\cos\\phi \\\\\n",
    "z' &=& -&x \\cos\\phi &+& z \\sin\\phi \\\\\n",
    "\\end{eqnarray}\n",
    "$$"
   ]
  },
  {
   "cell_type": "markdown",
   "metadata": {},
   "source": [
    "## 10) Markdown 활용을 위한 사이트\n",
    "https://heropy.blog/2017/09/30/markdown/"
   ]
  },
  {
   "cell_type": "code",
   "execution_count": null,
   "metadata": {},
   "outputs": [],
   "source": []
  }
 ],
 "metadata": {
  "kernelspec": {
   "display_name": "Python 3",
   "language": "python",
   "name": "python3"
  },
  "language_info": {
   "codemirror_mode": {
    "name": "ipython",
    "version": 3
   },
   "file_extension": ".py",
   "mimetype": "text/x-python",
   "name": "python",
   "nbconvert_exporter": "python",
   "pygments_lexer": "ipython3",
   "version": "3.7.6"
  }
 },
 "nbformat": 4,
 "nbformat_minor": 4
}
