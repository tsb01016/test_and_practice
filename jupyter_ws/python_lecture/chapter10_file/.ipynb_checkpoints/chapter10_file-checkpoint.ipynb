{
 "cells": [
  {
   "cell_type": "markdown",
   "metadata": {},
   "source": [
    "# <center> <span style=\"color:IndianRed\"> Chapter10. File </center>\n",
    "\n",
    "## 윤윤기 선임연구원(KIAPI)/Ph.D\n",
    "### e-mail : mecha8404@nate.com\n",
    "### Ref. 스타트파이썬(코딩스쿨), 점프투파이썬(이지스퍼블리싱), 이젠나도 파이썬(성안당)"
   ]
  },
  {
   "cell_type": "markdown",
   "metadata": {},
   "source": [
    "## 코드 실습 방법\n",
    "-  ctrl + enter 또는 메뉴 Run 클릭 : 셀 실행\n",
    "-  shift + enter : 셀 실행 후 셀 추가"
   ]
  },
  {
   "cell_type": "markdown",
   "metadata": {},
   "source": [
    "## 변수 초기화 코드"
   ]
  },
  {
   "cell_type": "code",
   "execution_count": 10,
   "metadata": {},
   "outputs": [],
   "source": [
    "all = [var for var in globals() if var[0] != \"_\"]\n",
    "for var in all:\n",
    "    del globals()[var]"
   ]
  },
  {
   "cell_type": "markdown",
   "metadata": {},
   "source": [
    "## <span style=\"color:blue\"> 10.1. 파일 생성하기"
   ]
  },
  {
   "cell_type": "markdown",
   "metadata": {},
   "source": [
    "- 여태까지 입력은 사용자가 직접 입력하고 출력은 모니터로 결과가 표시 되는 방식으로 프로그램을 하였음\n",
    "- 이와 다르게 파일을 통해서 읽어서 입력을 전달받고 쓰고 저장 하는 방법을 확인하겠음\n",
    "- open 함수: 파일객체 = open(파일 이름, 파일 열기 모드)\n",
    "\n",
    "|<center>파일 열기 모드<center>|<center>설명</center>|\n",
    "|:-------:|:----------------------------------|\n",
    "| r | 읽기모드 : 파일을 읽기만 할 때 |\n",
    "| w | 쓰기 모드 : 파일에 내용을 쓸 때 |\n",
    "| a | 추가모드 : 기존의 파일의 마지막에 새로운 내용을 추가할 때 |"
   ]
  },
  {
   "cell_type": "markdown",
   "metadata": {},
   "source": [
    "\n",
    "### directory에 파일 생성"
   ]
  },
  {
   "cell_type": "markdown",
   "metadata": {},
   "source": [
    "#### <span style=\"color:brown\">실습: 코드를 실행하세요</br>"
   ]
  },
  {
   "cell_type": "code",
   "execution_count": null,
   "metadata": {},
   "outputs": [],
   "source": [
    "file = open(\"새파일1.txt\",\"w\")\n",
    "file.close()"
   ]
  },
  {
   "cell_type": "code",
   "execution_count": null,
   "metadata": {},
   "outputs": [],
   "source": [
    "file = open(\"C:/Users/user/python_lecture/chapter10_file/save_file/새파일2.txt\",\"w\")\n",
    "file.close()"
   ]
  },
  {
   "cell_type": "code",
   "execution_count": null,
   "metadata": {},
   "outputs": [],
   "source": [
    "file = open(\"save_file/새파일3.txt\",\"w\")\n",
    "file.close()"
   ]
  },
  {
   "cell_type": "markdown",
   "metadata": {},
   "source": [
    "## <span style=\"color:blue\"> 10.2. 파일에 내용 작성하기"
   ]
  },
  {
   "cell_type": "markdown",
   "metadata": {},
   "source": [
    "#### <span style=\"color:brown\">실습: 코드를 실행하세요</br>"
   ]
  },
  {
   "cell_type": "code",
   "execution_count": null,
   "metadata": {},
   "outputs": [],
   "source": [
    "file = open('save_file/Hello.txt','w', encoding='utf8')\n",
    "file.write('여러분 반갑습니다!!')\n",
    "file.close()\n",
    "print(\"파일 쓰기 완료!\")"
   ]
  },
  {
   "cell_type": "markdown",
   "metadata": {},
   "source": [
    "#### <span style=\"color:brown\">실습: 코드를 실행하세요</br>"
   ]
  },
  {
   "cell_type": "code",
   "execution_count": null,
   "metadata": {},
   "outputs": [],
   "source": [
    "file = open('save_file/count.txt','w', encoding='utf8')\n",
    "for i in range(1,11):\n",
    "    temp = \"Line number : %d\\n\"%i\n",
    "    file.write(temp)\n",
    "file.close()\n",
    "print(\"파일 쓰기 완료!\")"
   ]
  },
  {
   "cell_type": "markdown",
   "metadata": {},
   "source": [
    "#### <span style=\"color:brown\">실습: 코드를 실행하세요</br>"
   ]
  },
  {
   "cell_type": "code",
   "execution_count": null,
   "metadata": {},
   "outputs": [],
   "source": [
    "file = open('save_file/count.txt','a', encoding='utf8')\n",
    "file.write('여기까지 기록하였습니다.')\n",
    "file.close()"
   ]
  },
  {
   "cell_type": "markdown",
   "metadata": {},
   "source": [
    "#### <span style=\"color:brown\">실습: 코드를 실행하세요</br>"
   ]
  },
  {
   "cell_type": "code",
   "execution_count": null,
   "metadata": {},
   "outputs": [],
   "source": [
    "file = open('save_file/count.txt','r', encoding='utf8')\n",
    "file.write('한줄만 더 추가할께요~')\n",
    "file.close()"
   ]
  },
  {
   "cell_type": "markdown",
   "metadata": {},
   "source": [
    "## <span style=\"color:blue\"> 10.3. 파일 내용 읽기"
   ]
  },
  {
   "cell_type": "markdown",
   "metadata": {},
   "source": [
    "#### scores.txt\n",
    "- 안소영 97 80 93 97 93\n",
    "- 정예린 86 100 93 86 90\n",
    "- 김세린 91 88 99 79 92\n",
    "- 연수정 86 100 93 89 92\n",
    "- 박지아 80 100 95 89 90"
   ]
  },
  {
   "cell_type": "code",
   "execution_count": null,
   "metadata": {},
   "outputs": [],
   "source": [
    "file = open('save_file/scores.txt', 'r')\n",
    "lines = file.read()\n",
    "print(lines)\n",
    "file.close()"
   ]
  },
  {
   "cell_type": "markdown",
   "metadata": {},
   "source": [
    "#### <span style=\"color:brown\">실습: 코드를 입력하세요</br>"
   ]
  },
  {
   "cell_type": "code",
   "execution_count": null,
   "metadata": {},
   "outputs": [],
   "source": []
  },
  {
   "cell_type": "markdown",
   "metadata": {},
   "source": [
    "### <span style=\"color:violet\">Example1. scores.txt 파일 읽기</br>"
   ]
  },
  {
   "cell_type": "code",
   "execution_count": null,
   "metadata": {},
   "outputs": [],
   "source": [
    "file = open('save_file/scores.txt', 'r')\n",
    "lines = file.readlines()\n",
    "\n",
    "print(lines)\n",
    "\n",
    "for line in lines :\n",
    "    print(line, end=' ')\n",
    "    \n",
    "file.close()"
   ]
  },
  {
   "cell_type": "markdown",
   "metadata": {},
   "source": [
    "#### <span style=\"color:brown\">실습: 코드를 입력하세요</br>"
   ]
  },
  {
   "cell_type": "code",
   "execution_count": null,
   "metadata": {},
   "outputs": [],
   "source": []
  },
  {
   "cell_type": "markdown",
   "metadata": {},
   "source": [
    "### <span style=\"color:Orange\">Test1. Data 쓰고 읽기</br>\n",
    "- 아래의 월마다 입고된 과일의 내용을 기록하고 각 과일 마다 총 몇개 인지 출력하시오.\n",
    "\n",
    "|<center>기록내용</center>|\n",
    "|:-|\n",
    "| 사과 20 26 37 30 40 |\n",
    "| 수박 5 8 7 15 15 |\n",
    "| 참외 6 5 10 18 16 |\n",
    "| 포도 16 10 6 12 18 |\n",
    "| 복숭아 30 37 25 40 50 |\n",
    "| 귤 40 60 80 100 100 |"
   ]
  },
  {
   "cell_type": "markdown",
   "metadata": {},
   "source": [
    "#### <span style=\"color:brown\">실습: 코드를 입력하세요</br>"
   ]
  },
  {
   "cell_type": "code",
   "execution_count": null,
   "metadata": {},
   "outputs": [],
   "source": []
  },
  {
   "cell_type": "markdown",
   "metadata": {},
   "source": [
    "### <span style=\"color:Purple\">코딩미션1. 길이 변화 코드 작성</br>\n",
    "- 다음은 클래스를 이용하여 길이 변환을 위한 코드를 작성하고 결과를 txt 파일로 저장 후 화면에 출력하시오. 입력값은 5cm 이고, 길이 변화 기준과 결과는 아래의 그림과 같습니다.(마일, 자, 정, 간, 리는 제외)\n",
    "\n",
    "\n",
    "\n",
    "![title](ch10_image\\1_unit.png)\n",
    "\n",
    "![title](ch10_image\\2_unit_results.png)\n"
   ]
  },
  {
   "cell_type": "markdown",
   "metadata": {},
   "source": [
    "#### <span style=\"color:brown\">실습: 코드를 입력하세요</br>"
   ]
  },
  {
   "cell_type": "code",
   "execution_count": 23,
   "metadata": {},
   "outputs": [
    {
     "name": "stdout",
     "output_type": "stream",
     "text": [
      "입력하세요: 5\n",
      "inch : 1.9685\n",
      "yard : 0.0545\n",
      "meter : 0.0500\n",
      "feet : 0.1640\n"
     ]
    }
   ],
   "source": [
    "class unit:\n",
    "    def __init__(self, num):\n",
    "        self.num = num\n",
    "        \n",
    "    def inch(self):\n",
    "        return self.num*0.3937\n",
    "    \n",
    "    def yard(self):\n",
    "        return self.num*0.0109\n",
    "    \n",
    "    def meter(self):\n",
    "        return self.num*0.01\n",
    "    \n",
    "    def feet(self):\n",
    "        return self.num*0.0328\n",
    "\n",
    "numA = input(\"입력하세요: \")\n",
    "\n",
    "results = unit(float(numA))\n",
    "\n",
    "print('inch : %0.4f' %results.inch())\n",
    "print('yard : %0.4f' %results.yard())\n",
    "print('meter : %0.4f' %results.meter())\n",
    "print('feet : %0.4f' %results.feet())"
   ]
  }
 ],
 "metadata": {
  "kernelspec": {
   "display_name": "Python 3",
   "language": "python",
   "name": "python3"
  },
  "language_info": {
   "codemirror_mode": {
    "name": "ipython",
    "version": 3
   },
   "file_extension": ".py",
   "mimetype": "text/x-python",
   "name": "python",
   "nbconvert_exporter": "python",
   "pygments_lexer": "ipython3",
   "version": "3.7.6"
  }
 },
 "nbformat": 4,
 "nbformat_minor": 4
}
