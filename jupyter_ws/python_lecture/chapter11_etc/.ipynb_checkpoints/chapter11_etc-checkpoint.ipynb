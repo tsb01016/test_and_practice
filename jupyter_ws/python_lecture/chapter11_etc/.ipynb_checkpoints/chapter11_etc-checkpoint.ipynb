{
 "cells": [
  {
   "cell_type": "markdown",
   "metadata": {},
   "source": [
    "# <center> <span style=\"color:IndianRed\"> Chapter11. etc </center>\n",
    "\n",
    "## 윤윤기 선임연구원(KIAPI)/Ph.D\n",
    "### e-mail : mecha8404@nate.com\n",
    "### Ref. 스타트파이썬(코딩스쿨), 점프투파이썬(이지스퍼블리싱), 이젠나도 파이썬(성안당)"
   ]
  },
  {
   "cell_type": "markdown",
   "metadata": {},
   "source": [
    "## 코드 실습 방법\n",
    "-  ctrl + enter 또는 메뉴 Run 클릭 : 셀 실행\n",
    "-  shift + enter : 셀 실행 후 셀 추가"
   ]
  },
  {
   "cell_type": "markdown",
   "metadata": {},
   "source": [
    "## 변수 초기화 코드"
   ]
  },
  {
   "cell_type": "code",
   "execution_count": null,
   "metadata": {},
   "outputs": [],
   "source": [
    "all = [var for var in globals() if var[0] != \"_\"]\n",
    "for var in all:\n",
    "    del globals()[var]"
   ]
  },
  {
   "cell_type": "markdown",
   "metadata": {},
   "source": [
    "## <span style=\"color:blue\"> 11.1. 예외처리"
   ]
  },
  {
   "cell_type": "markdown",
   "metadata": {},
   "source": [
    "### 오류 발생"
   ]
  },
  {
   "cell_type": "markdown",
   "metadata": {},
   "source": [
    "#### <span style=\"color:brown\">실습: 코드를 실행하세요</br>"
   ]
  },
  {
   "cell_type": "code",
   "execution_count": null,
   "metadata": {},
   "outputs": [],
   "source": [
    "f = open(\"abcd.txt\",'r')"
   ]
  },
  {
   "cell_type": "code",
   "execution_count": null,
   "metadata": {},
   "outputs": [],
   "source": [
    "4/0"
   ]
  },
  {
   "cell_type": "code",
   "execution_count": null,
   "metadata": {},
   "outputs": [],
   "source": [
    "a = [1,2,3]\n",
    "a[4]"
   ]
  },
  {
   "cell_type": "markdown",
   "metadata": {},
   "source": [
    "### 오류 예외 처리 기법\n",
    "- 예외처리 흐름\n",
    "\n",
    "![title](ch11_image\\1_except_flow.png)\n",
    "\n"
   ]
  },
  {
   "cell_type": "markdown",
   "metadata": {},
   "source": [
    "#### try, except 실행 해보기"
   ]
  },
  {
   "cell_type": "markdown",
   "metadata": {},
   "source": [
    "#### <span style=\"color:brown\">실습: 코드를 실행하세요.</br>"
   ]
  },
  {
   "cell_type": "code",
   "execution_count": null,
   "metadata": {},
   "outputs": [],
   "source": [
    "try:\n",
    "    4/0\n",
    "except:\n",
    "    print(\"error\")"
   ]
  },
  {
   "cell_type": "code",
   "execution_count": null,
   "metadata": {},
   "outputs": [],
   "source": [
    "try:\n",
    "    4/0\n",
    "except ZeroDivisionError:\n",
    "    print(\"ZeroDivisionError\")"
   ]
  },
  {
   "cell_type": "code",
   "execution_count": null,
   "metadata": {},
   "outputs": [],
   "source": [
    "try:\n",
    "    4/0\n",
    "except ZeroDivisionError as e:\n",
    "    print(e)  # ZeroDivisionError: division by zero"
   ]
  },
  {
   "cell_type": "markdown",
   "metadata": {},
   "source": [
    "#### <span style=\"color:brown\">실습: 위와 같이 만들어보세요</br>"
   ]
  },
  {
   "cell_type": "code",
   "execution_count": null,
   "metadata": {},
   "outputs": [],
   "source": [
    "f = open(\"abcd.txt\",'r')"
   ]
  },
  {
   "cell_type": "code",
   "execution_count": null,
   "metadata": {},
   "outputs": [],
   "source": [
    "a = [1,2,3]\n",
    "a[4]"
   ]
  },
  {
   "cell_type": "markdown",
   "metadata": {},
   "source": [
    "#### try, except, finally 사용하기"
   ]
  },
  {
   "cell_type": "markdown",
   "metadata": {},
   "source": [
    "#### <span style=\"color:brown\">실습: 코드를 실행하세요.</br>"
   ]
  },
  {
   "cell_type": "code",
   "execution_count": null,
   "metadata": {},
   "outputs": [],
   "source": [
    "try:\n",
    "    a = 4/0\n",
    "    print(a)\n",
    "except:\n",
    "    print(\"error\")\n",
    "finally:\n",
    "    print(\"end\")"
   ]
  },
  {
   "cell_type": "code",
   "execution_count": null,
   "metadata": {},
   "outputs": [],
   "source": [
    "f = open(\"abcd.txt\",'r')\n",
    "try:\n",
    "    print(\"file open\")\n",
    "finally:\n",
    "    print(\"file closed\")\n",
    "except:\n",
    "    print(\"error\")"
   ]
  },
  {
   "cell_type": "markdown",
   "metadata": {},
   "source": [
    "#### <span style=\"color:brown\">실습: 위의 코드를 입력하세요.</br>"
   ]
  },
  {
   "cell_type": "code",
   "execution_count": null,
   "metadata": {},
   "outputs": [],
   "source": []
  },
  {
   "cell_type": "markdown",
   "metadata": {},
   "source": [
    "#### try, else, finally 사용하기"
   ]
  },
  {
   "cell_type": "code",
   "execution_count": null,
   "metadata": {},
   "outputs": [],
   "source": [
    "try:\n",
    "    a = 4/1\n",
    "except:\n",
    "    print(\"error\")\n",
    "else:\n",
    "    print(\"ok\")"
   ]
  },
  {
   "cell_type": "markdown",
   "metadata": {},
   "source": [
    "#### <span style=\"color:brown\">실습: 위의 코드를 입력하세요.</br>"
   ]
  },
  {
   "cell_type": "code",
   "execution_count": null,
   "metadata": {},
   "outputs": [],
   "source": []
  },
  {
   "cell_type": "markdown",
   "metadata": {},
   "source": [
    "#### 여러개의 오류 처리하기\n",
    "#### <span style=\"color:brown\">실습: 코드를 실행하세요.</br>"
   ]
  },
  {
   "cell_type": "code",
   "execution_count": null,
   "metadata": {},
   "outputs": [],
   "source": [
    "try:\n",
    "    a = [1,2]\n",
    "    print(a[3])\n",
    "    4/0\n",
    "    \n",
    "except ZeroDivisionError as e:\n",
    "    print(e)\n",
    "    \n",
    "except IndexError as k:\n",
    "    print(k)"
   ]
  },
  {
   "cell_type": "code",
   "execution_count": null,
   "metadata": {},
   "outputs": [],
   "source": [
    "try:\n",
    "    aa = [1,2]\n",
    "    print(aa[3])\n",
    "    4/0\n",
    "    \n",
    "except (ZeroDivisionError, IndexError) as ee:\n",
    "    print(ee)"
   ]
  },
  {
   "cell_type": "markdown",
   "metadata": {},
   "source": [
    "#### 오류 회피하기 - pass\n",
    "#### <span style=\"color:brown\">실습: 코드를 실행하세요.</br>"
   ]
  },
  {
   "cell_type": "code",
   "execution_count": null,
   "metadata": {},
   "outputs": [],
   "source": [
    "try:\n",
    "    aaa = [1,2]\n",
    "    print(aaa[3])\n",
    "    4/0\n",
    "    \n",
    "except ZeroDivisionError as eee:\n",
    "    print(e)\n",
    "    \n",
    "except IndexError as kkk:\n",
    "    pass"
   ]
  },
  {
   "cell_type": "markdown",
   "metadata": {},
   "source": [
    "#### 오류 발생시키기-raise\n",
    "#### <span style=\"color:brown\">실습: 코드를 실행하세요.</br>"
   ]
  },
  {
   "cell_type": "code",
   "execution_count": null,
   "metadata": {},
   "outputs": [],
   "source": [
    "def add(x,y):\n",
    "    try:\n",
    "        if x > 10:\n",
    "            raise Exception('x의 입력한 숫자가 10보다 큽니다.\\n')\n",
    "        elif  y >10:\n",
    "            raise Exception('y의 입력한 숫자가 10보다 큽니다.\\n')\n",
    "        else:\n",
    "            return print(x+y)\n",
    "            \n",
    "    except Exception as e:\n",
    "        print('add 함수에서 예외가 발생했습니다.\\n', e)\n",
    "        raise\n",
    " \n",
    "try:\n",
    "    a = int(input('x 숫자를 입력하세요: '))\n",
    "    b = int(input('y 숫자를 입력하세요: '))\n",
    "    add(a,b)\n",
    "    \n",
    "except Exception as e:\n",
    "    print('스크립트 파일에서 예외가 발생했습니다.\\n', e)"
   ]
  },
  {
   "cell_type": "markdown",
   "metadata": {},
   "source": [
    "#### 오류 발생시키기-assert\n",
    "#### <span style=\"color:brown\">실습: 코드를 실행하세요.</br>"
   ]
  },
  {
   "cell_type": "code",
   "execution_count": null,
   "metadata": {},
   "outputs": [],
   "source": [
    "x = int(input('3의 배수를 입력하세요: '))\n",
    "assert x % 3 == 0, '3의 배수가 아닙니다.'\n",
    "print(x)"
   ]
  },
  {
   "cell_type": "markdown",
   "metadata": {},
   "source": [
    "## <span style=\"color:blue\"> 11.2. comprehension"
   ]
  },
  {
   "cell_type": "markdown",
   "metadata": {},
   "source": [
    "- iterable한 오브젝트를 생성하기 위한 방법중 하나\n",
    "- 파이썬에서 사용할 수 있는 유용한 기능중 하나\n",
    "\n",
    "- 네 가지 종류의 Comprehension\n",
    "    - List Comprehension (LC) : 리스트를 쉽게 생성하기 위한 방법\n",
    "    - Set Comprehension (SC) : LC와 동일하지만 list가 아닌 set을 생성\n",
    "    - Dict Comprehension (DC) : LC와 동일하며 list가 아닌 dict를 생성\n",
    "    - Generator Expression (GE)"
   ]
  },
  {
   "cell_type": "markdown",
   "metadata": {},
   "source": [
    "#### List Comprehension"
   ]
  },
  {
   "cell_type": "code",
   "execution_count": null,
   "metadata": {},
   "outputs": [],
   "source": [
    "# 20까지의 짝수를 출력 - list comperhension\n",
    "evens = [x * 2 for x in range(11)]\n",
    "print(evens)"
   ]
  },
  {
   "cell_type": "markdown",
   "metadata": {},
   "source": [
    "#### <span style=\"color:brown\">실습: 코드를 입력하세요.</br>"
   ]
  },
  {
   "cell_type": "code",
   "execution_count": null,
   "metadata": {},
   "outputs": [],
   "source": []
  },
  {
   "cell_type": "code",
   "execution_count": null,
   "metadata": {},
   "outputs": [],
   "source": [
    "# 20까지의 짝수를 출력 - 일반적인 for문\n",
    "evens2 = []\n",
    "for i in range(11):\n",
    "    evens2.append(i*2)\n",
    "print(evens2)"
   ]
  },
  {
   "cell_type": "markdown",
   "metadata": {},
   "source": [
    "#### <span style=\"color:brown\">실습: 코드를 입력하세요.</br>"
   ]
  },
  {
   "cell_type": "code",
   "execution_count": null,
   "metadata": {},
   "outputs": [],
   "source": []
  },
  {
   "cell_type": "markdown",
   "metadata": {},
   "source": [
    "### <span style=\"color:Orange\">Test1. 아래의 코드를 LC로 변환해보세요</br>"
   ]
  },
  {
   "cell_type": "code",
   "execution_count": null,
   "metadata": {},
   "outputs": [],
   "source": [
    "carBrand = ['BENZ','ROYCE','GM','HYUNDAI']\n",
    "countryCode = ['276','826','840','410']\n",
    "\n",
    "tempList = []\n",
    "j=0\n",
    "for i in carBrand:\n",
    "    tempList.append(i+countryCode[j])\n",
    "    j=j+1\n",
    "        \n",
    "print(tempList)"
   ]
  },
  {
   "cell_type": "markdown",
   "metadata": {},
   "source": [
    "#### <span style=\"color:brown\">실습: 코드를 입력하세요.</br>"
   ]
  },
  {
   "cell_type": "code",
   "execution_count": null,
   "metadata": {},
   "outputs": [],
   "source": []
  },
  {
   "cell_type": "markdown",
   "metadata": {},
   "source": [
    "#### Set Comprehension"
   ]
  },
  {
   "cell_type": "code",
   "execution_count": null,
   "metadata": {},
   "outputs": [],
   "source": [
    "no_primes = [j for i in range(2, 9) for j in range(i * 2, 50, i)]\n",
    "print(no_primes)"
   ]
  },
  {
   "cell_type": "markdown",
   "metadata": {},
   "source": [
    "#### <span style=\"color:brown\">실습: 코드를 입력하세요.</br>"
   ]
  },
  {
   "cell_type": "code",
   "execution_count": null,
   "metadata": {},
   "outputs": [],
   "source": []
  },
  {
   "cell_type": "code",
   "execution_count": null,
   "metadata": {},
   "outputs": [],
   "source": [
    "no_primes = {j for i in range(2, 9) for j in range(i * 2, 50, i)}\n",
    "print(no_primes)"
   ]
  },
  {
   "cell_type": "markdown",
   "metadata": {},
   "source": [
    "#### <span style=\"color:brown\">실습: 코드를 입력하세요.</br>"
   ]
  },
  {
   "cell_type": "code",
   "execution_count": null,
   "metadata": {},
   "outputs": [],
   "source": []
  },
  {
   "cell_type": "markdown",
   "metadata": {},
   "source": [
    "#### <span style=\"color:brown\">실습: 코드를 실행하세요.</br>"
   ]
  },
  {
   "cell_type": "code",
   "execution_count": null,
   "metadata": {},
   "outputs": [],
   "source": [
    "AA = {1,2,3,4}\n",
    "type(AA)"
   ]
  },
  {
   "cell_type": "code",
   "execution_count": null,
   "metadata": {},
   "outputs": [],
   "source": [
    "empty_AA = set()\n",
    "type(empty_AA)"
   ]
  },
  {
   "cell_type": "code",
   "execution_count": null,
   "metadata": {},
   "outputs": [],
   "source": [
    "BB = {}\n",
    "type(BB)"
   ]
  },
  {
   "cell_type": "markdown",
   "metadata": {},
   "source": [
    "#### Dict Comprehension"
   ]
  },
  {
   "cell_type": "code",
   "execution_count": null,
   "metadata": {},
   "outputs": [],
   "source": [
    "carBrand = ['BENZ','ROYCE','GM','HYUNDAI']\n",
    "countryCode = ['276', '826', '840', '410']\n",
    "\n",
    "tempList = {key: value for key, value in zip(carBrand,countryCode)}\n",
    "        \n",
    "print(tempList)"
   ]
  },
  {
   "cell_type": "code",
   "execution_count": null,
   "metadata": {},
   "outputs": [],
   "source": [
    "gen = (x**2 for x in range(10))\n",
    "print(gen)\n",
    "print(next(gen))\n",
    "print(next(gen))\n",
    "print(next(gen))\n",
    "print(next(gen))\n",
    "print(next(gen))\n",
    "print(next(gen))\n",
    "print(next(gen))\n",
    "print(next(gen))\n",
    "print(next(gen))\n",
    "print(next(gen))\n",
    "\n",
    "print('\\n')\n",
    "\n",
    "gen = (x**2 for x in range(10))\n",
    "sum_of_squares = sum(gen)\n",
    "\n",
    "print(sum_of_squares)"
   ]
  },
  {
   "cell_type": "markdown",
   "metadata": {},
   "source": [
    "- generator 는 간단하게 설명하면 iterator 를 생성해 주는 function"
   ]
  },
  {
   "cell_type": "code",
   "execution_count": null,
   "metadata": {},
   "outputs": [],
   "source": [
    "def generator(i):\n",
    "    j = 0\n",
    "    while j < i:\n",
    "        yield j\n",
    "        j += 1\n",
    "\n",
    "gen = generator(4)\n",
    "print(type(gen))\n",
    "print('\\n')\n",
    "\n",
    "\n",
    "# next() 함수 사용\n",
    "n = next(gen);\n",
    "print(n)\n",
    "n = next(gen);\n",
    "print(n)\n",
    "n = next(gen);\n",
    "print(n)\n",
    "n = next(gen);\n",
    "print(n)\n",
    "\n",
    "print('\\n')\n",
    "\n",
    "\n",
    "for test in generator(10):\n",
    "    print(test)"
   ]
  }
 ],
 "metadata": {
  "kernelspec": {
   "display_name": "Python 3",
   "language": "python",
   "name": "python3"
  },
  "language_info": {
   "codemirror_mode": {
    "name": "ipython",
    "version": 3
   },
   "file_extension": ".py",
   "mimetype": "text/x-python",
   "name": "python",
   "nbconvert_exporter": "python",
   "pygments_lexer": "ipython3",
   "version": "3.7.6"
  }
 },
 "nbformat": 4,
 "nbformat_minor": 4
}
