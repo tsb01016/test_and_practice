{
 "cells": [
  {
   "cell_type": "markdown",
   "metadata": {},
   "source": [
    "### <span style=\"color:Orange\">Test1. 클래스로 과일 이름/색상/밋 출력하기</br>\n",
    "- 다음은 클래스를 이용하여 과일의 이름, 색상, 맛, 비타민 함유량 등을 화면에 출력하는 프로그램입니다. 빈 칸을 채워보세요.\n",
    "\n",
    "|<center>실행결과</center>|\n",
    "|:-|\n",
    "| 과일명 : 오렌지 |\n",
    "| 색상 : 노란색 |\n",
    "| 새콤하다. |\n",
    "| 비타민 C가 풍부하다. |\n",
    "\n",
    "~~~python\n",
    "class Fruit :\n",
    "    name = '오렌지'\n",
    "    ______ = '노란색'\n",
    "    def taste(self) :\n",
    "        print('새콤하다.')\n",
    "\n",
    "    def _____________ :\n",
    "        print('비타민 C가 풍부하다.')\n",
    "    \n",
    "\n",
    "orange = Fruit()\n",
    "\n",
    "print('과일명 : %s' % orange.__________)\n",
    "print('색상 : %s' % __________.color)\n",
    "orange._________\n",
    "orange.vitamin()\n",
    "~~~"
   ]
  },
  {
   "cell_type": "markdown",
   "metadata": {},
   "source": [
    "### <span style=\"color:Red\"> 정답:"
   ]
  },
  {
   "cell_type": "code",
   "execution_count": 1,
   "metadata": {},
   "outputs": [
    {
     "name": "stdout",
     "output_type": "stream",
     "text": [
      "과일명 : 오렌지\n",
      "색상 : 노란색\n",
      "새콤하다.\n",
      "비타민 C가 풍부하다.\n"
     ]
    }
   ],
   "source": [
    "class Fruit :\n",
    "    name = '오렌지'\n",
    "    color = '노란색'\n",
    "    def taste(self) :\n",
    "        print('새콤하다.')\n",
    "\n",
    "    def vitamin(self) :\n",
    "        print('비타민 C가 풍부하다.')\n",
    "    \n",
    "\n",
    "orange = Fruit()\n",
    "\n",
    "print('과일명 : %s' % orange.name)\n",
    "print('색상 : %s' % orange.color)\n",
    "orange.taste()\n",
    "orange.vitamin()"
   ]
  },
  {
   "cell_type": "markdown",
   "metadata": {},
   "source": [
    "### <span style=\"color:Orange\">Test2. 생성자를 이용하여 성적의 합계 평균구하기</br>\n",
    "- 다음은 클래스의 생성자를 이용하여 합계와 평균을 구하는 프로그램입니다. 빈칸을 채워보세요.\n",
    "\n",
    "|<center>실행결과</center>|\n",
    "|:-|\n",
    "| 이름 : 홍지영 |\n",
    "| 합계 : 280 |\n",
    "| 평균 : 98.3 |\n",
    "\n",
    "~~~python\n",
    "class Student :\n",
    "    total = 0\n",
    "    avg = 0.0\n",
    "    def __init__(self, name, kor, eng, math) :\n",
    "        self.name = name\n",
    "        _________ = kor\n",
    "        self.eng = eng\n",
    "        _________ = math\n",
    "       \n",
    "    def getSum(self) :\n",
    "        _________ = self.kor + self.eng + self.math\n",
    "        return self.total\n",
    "\n",
    "    def getAvg(self) :\n",
    "        self.avg = _________\n",
    "        return self.avg\n",
    "\n",
    "s1 = Student('홍지영', 90, 90, 100)\n",
    "print('이름 : %s' % s1.name)\n",
    "print('합계 : %d' % s1.getSum())\n",
    "print('평균 : %.1f' % _________)\n",
    "~~~\n"
   ]
  },
  {
   "cell_type": "markdown",
   "metadata": {},
   "source": [
    "### <span style=\"color:Red\"> 정답:"
   ]
  },
  {
   "cell_type": "code",
   "execution_count": 3,
   "metadata": {},
   "outputs": [
    {
     "name": "stdout",
     "output_type": "stream",
     "text": [
      "이름 : 홍지영\n",
      "합계 : 280\n",
      "평균 : 93.3\n"
     ]
    }
   ],
   "source": [
    "class Student :\n",
    "    total = 0\n",
    "    avg = 0.0\n",
    "    def __init__(self, name, kor, eng, math) :\n",
    "        self.name = name\n",
    "        self.kor = kor\n",
    "        self.eng = eng\n",
    "        self.math = math\n",
    "       \n",
    "    def getSum(self) :\n",
    "        self.total = self.kor + self.eng + self.math\n",
    "        return self.total\n",
    "\n",
    "    def getAvg(self) :\n",
    "        self.avg = self.total/3\n",
    "        return self.avg\n",
    "\n",
    "s1 = Student('홍지영', 90, 90, 100)\n",
    "print('이름 : %s' % s1.name)\n",
    "print('합계 : %d' % s1.getSum())\n",
    "print('평균 : %.1f' % s1.getAvg())"
   ]
  },
  {
   "cell_type": "markdown",
   "metadata": {},
   "source": [
    "### <span style=\"color:Purple\">코딩미션1. 클래스로 두 수 사칙연산 수행하기</br>\n",
    "- 다음은 클래스를 이용하여 두 수의 사칙연산을 수행하는 프로그램입니다. 빈 박스 안을 채워서 프로그램을 완성해 보세요.\n",
    "\n",
    "[실행결과]\n",
    "- 10 + 20 = 30\n",
    "- 10 * 20 = 200\n",
    "\n",
    "~~~python\n",
    "class Calculator:\n",
    "    def __init__(self, num1, num2):\n",
    "        self.num1 = num1\n",
    "        self.num2 = num2\n",
    "        \n",
    "    def addition(self):\n",
    "        return self.num1 + self.num2\n",
    "    \n",
    "    def subtraction(self):\n",
    "        return self.num1 - self.num2\n",
    "    \n",
    "    def multiplication(self):\n",
    "        return self.num1 * self.num2\n",
    "    \n",
    "    def division(self):\n",
    "        return self.num1/self.num2\n",
    "    \n",
    "numA = 10\n",
    "numB = 20\n",
    "\n",
    "cal1 = Calculator(a,b)\n",
    "\n",
    "------------------실행결과가 나오도록 입력하세요.-----------------------\n",
    "~~~"
   ]
  },
  {
   "cell_type": "code",
   "execution_count": 4,
   "metadata": {},
   "outputs": [
    {
     "name": "stdout",
     "output_type": "stream",
     "text": [
      "10 + 20 = 30\n",
      "10 * 20 = 200\n"
     ]
    }
   ],
   "source": [
    "class Calculator:\n",
    "    def __init__(self, num1, num2):\n",
    "        self.num1 = num1\n",
    "        self.num2 = num2\n",
    "        \n",
    "    def addition(self):\n",
    "        return self.num1 + self.num2\n",
    "    \n",
    "    def subtraction(self):\n",
    "        return self.num1 - self.num2\n",
    "    \n",
    "    def multiplication(self):\n",
    "        return self.num1 * self.num2\n",
    "    \n",
    "    def division(self):\n",
    "        return self.num1/self.num2\n",
    "    \n",
    "numA = 10\n",
    "numB = 20\n",
    "\n",
    "cal1 = Calculator(numA,numB)\n",
    "\n",
    "print('10 + 20 =',cal1.addition())\n",
    "print('10 * 20 =',cal1.multiplication())"
   ]
  }
 ],
 "metadata": {
  "kernelspec": {
   "display_name": "Python 3",
   "language": "python",
   "name": "python3"
  },
  "language_info": {
   "codemirror_mode": {
    "name": "ipython",
    "version": 3
   },
   "file_extension": ".py",
   "mimetype": "text/x-python",
   "name": "python",
   "nbconvert_exporter": "python",
   "pygments_lexer": "ipython3",
   "version": "3.8.3"
  }
 },
 "nbformat": 4,
 "nbformat_minor": 4
}
