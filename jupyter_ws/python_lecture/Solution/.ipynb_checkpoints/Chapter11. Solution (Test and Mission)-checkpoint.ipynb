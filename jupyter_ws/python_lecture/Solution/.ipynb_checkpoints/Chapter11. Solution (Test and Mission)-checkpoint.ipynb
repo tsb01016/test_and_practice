{
 "cells": [
  {
   "cell_type": "markdown",
   "metadata": {},
   "source": [
    "### <span style=\"color:Orange\">Test1. 위의 코드를 LC로 변환해보세요</br>"
   ]
  },
  {
   "cell_type": "code",
   "execution_count": null,
   "metadata": {},
   "outputs": [],
   "source": [
    "carBrand = ['BENZ','ROYCE','GM','HYUNDAI']\n",
    "countryCode = ['276','826','840','410']\n",
    "\n",
    "tempList = []\n",
    "j=0\n",
    "for i in carBrand:\n",
    "    tempList.append(i+countryCode[j])\n",
    "    j=j+1\n",
    "        \n",
    "print(tempList)"
   ]
  },
  {
   "cell_type": "markdown",
   "metadata": {},
   "source": [
    "### <span style=\"color:Red\"> 정답:"
   ]
  },
  {
   "cell_type": "code",
   "execution_count": 1,
   "metadata": {},
   "outputs": [
    {
     "name": "stdout",
     "output_type": "stream",
     "text": [
      "['BENZ276', 'ROYCE826', 'GM840', 'HYUNDAI410']\n"
     ]
    }
   ],
   "source": [
    "carBrand = ['BENZ','ROYCE','GM','HYUNDAI']\n",
    "countryCode = ['276','826','840','410']\n",
    "\n",
    "tempList = [carBrand[i]+countryCode[i] for i in range(len(carBrand))]\n",
    "        \n",
    "print(tempList)"
   ]
  }
 ],
 "metadata": {
  "kernelspec": {
   "display_name": "Python 3",
   "language": "python",
   "name": "python3"
  },
  "language_info": {
   "codemirror_mode": {
    "name": "ipython",
    "version": 3
   },
   "file_extension": ".py",
   "mimetype": "text/x-python",
   "name": "python",
   "nbconvert_exporter": "python",
   "pygments_lexer": "ipython3",
   "version": "3.7.6"
  }
 },
 "nbformat": 4,
 "nbformat_minor": 4
}
