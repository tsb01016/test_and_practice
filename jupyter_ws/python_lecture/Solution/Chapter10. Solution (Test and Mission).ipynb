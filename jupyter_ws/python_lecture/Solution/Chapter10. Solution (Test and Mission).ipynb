{
 "cells": [
  {
   "cell_type": "markdown",
   "metadata": {},
   "source": [
    "### <span style=\"color:Orange\">Test1. Data 쓰고 읽기</br>\n",
    "- 아래의 월마다 입고된 과일의 내용을 기록하고 각 과일 마다 총 몇개 인지 출력하시오.\n",
    "\n",
    "|<center>기록내용</center>|\n",
    "|:-|\n",
    "| 사과 20 26 37 30 40 |\n",
    "| 수박 5 8 7 15 15 |\n",
    "| 참외 6 5 10 18 16 |\n",
    "| 포도 16 10 6 12 18 |\n",
    "| 복숭아 30 37 25 40 50 |\n",
    "| 귤 40 60 80 100 100 |"
   ]
  },
  {
   "cell_type": "markdown",
   "metadata": {},
   "source": [
    "### <span style=\"color:Red\"> 정답:"
   ]
  },
  {
   "cell_type": "code",
   "execution_count": 1,
   "metadata": {},
   "outputs": [
    {
     "name": "stdout",
     "output_type": "stream",
     "text": [
      "파일 쓰기 완료!\n",
      "\n",
      "\n",
      "사과\n",
      "153\n",
      "------------------------------\n",
      "수박\n",
      "50\n",
      "------------------------------\n",
      "참외\n",
      "55\n",
      "------------------------------\n",
      "포도\n",
      "62\n",
      "------------------------------\n",
      "복숭아\n",
      "182\n",
      "------------------------------\n",
      "귤\n",
      "380\n",
      "------------------------------\n"
     ]
    }
   ],
   "source": [
    "data = ['사과 20 26 37 30 40',\n",
    "       '수박 5 8 7 15 15',\n",
    "       '참외 6 5 10 18 16',\n",
    "       '포도 16 10 6 12 18',\n",
    "       '복숭아 30 37 25 40 50',\n",
    "       '귤 40 60 80 100 100']\n",
    "\n",
    "\"\"\"\n",
    "fruitData=''\n",
    "for temp in data:\n",
    "    fruitData=fruitData+temp+'\\n'    \n",
    "    \n",
    "file = open('save_file/fruit.txt','w', encoding='utf8')\n",
    "file.write(fruitData)\n",
    "file.close()\n",
    "print(\"파일 쓰기 완료!\")\n",
    "\"\"\"\n",
    "\n",
    "file = open('fruit.txt','w', encoding='utf8')\n",
    "\n",
    "for temp in data:\n",
    "    file.write(temp)\n",
    "    file.write('\\n')\n",
    "\n",
    "file.close()\n",
    "print(\"파일 쓰기 완료!\")\n",
    "print(\"\\n\")\n",
    "\n",
    "file = open('fruit.txt', 'r', encoding='utf8')\n",
    "lines = file.readlines()\n",
    "file.close()\n",
    "\n",
    "for line in lines :\n",
    "    fruit = line.split()    \n",
    "    size = len(fruit)\n",
    "    \n",
    "    cnt=0\n",
    "    iSum=0\n",
    "    \n",
    "    while cnt < size:        \n",
    "        \n",
    "        if cnt==0:\n",
    "            print(fruit[cnt])\n",
    "        else:\n",
    "            iSum = iSum + int(fruit[cnt])\n",
    "            \n",
    "        cnt=cnt+1\n",
    "    print(iSum)\n",
    "    print('-' * 30)"
   ]
  }
 ],
 "metadata": {
  "kernelspec": {
   "display_name": "Python 3",
   "language": "python",
   "name": "python3"
  },
  "language_info": {
   "codemirror_mode": {
    "name": "ipython",
    "version": 3
   },
   "file_extension": ".py",
   "mimetype": "text/x-python",
   "name": "python",
   "nbconvert_exporter": "python",
   "pygments_lexer": "ipython3",
   "version": "3.7.6"
  }
 },
 "nbformat": 4,
 "nbformat_minor": 4
}
