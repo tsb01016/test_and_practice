{
 "cells": [
  {
   "cell_type": "markdown",
   "metadata": {},
   "source": [
    "# <center> <span style=\"color:IndianRed\"> Chapter8. Class </center>\n",
    "\n",
    "## 윤윤기 선임연구원(KIAPI)/Ph.D\n",
    "### e-mail : mecha8404@nate.com\n",
    "### Ref. 스타트파이썬(코딩스쿨), 점프투파이썬(이지스퍼블리싱), 이젠나도 파이썬(성안당)"
   ]
  },
  {
   "cell_type": "markdown",
   "metadata": {},
   "source": [
    "## 코드 실습 방법\n",
    "-  ctrl + enter 또는 메뉴 Run 클릭 : 셀 실행\n",
    "-  shift + enter : 셀 실행 후 셀 추가"
   ]
  },
  {
   "cell_type": "markdown",
   "metadata": {},
   "source": [
    "## 변수 초기화 코드"
   ]
  },
  {
   "cell_type": "code",
   "execution_count": 1,
   "metadata": {},
   "outputs": [],
   "source": [
    "all = [var for var in globals() if var[0] != \"_\"]\n",
    "for var in all:\n",
    "    del globals()[var]"
   ]
  },
  {
   "cell_type": "markdown",
   "metadata": {},
   "source": [
    "## <span style=\"color:blue\"> 8.1. 클래스란?"
   ]
  },
  {
   "cell_type": "markdown",
   "metadata": {},
   "source": [
    "- 동일 특성의 변수와 함수를 모아 놓은 것\n",
    "- 객체지향프로그래밍(Object Oriented Programming)에서의 핵심요소\n",
    "- class의 구성: 맴버 변수(Member Variable)+내부 함수인 메소드(Method)\n",
    "![title](ch8_image\\1_class_concept.png)\n",
    "\n",
    "\n",
    "- 객체의 구현체가 class이므로 class는 객체의 기본 속성인   \n",
    "  상태와 행위에 관련된 기능을 수행해야 함  \n",
    "- 구현하는 과정에서 상태는 변수라는 형태로 구현됨\n",
    "- 행위는 변수와 관련된 동작을 하는 함수라는 형태로 구현됨\n",
    "- 클래스는 class 라는 구문으로 시작되며 다음과 같은 형태를 가짐\n",
    "~~~python\n",
    "class company:\n",
    "    pass\n",
    "~~~\n",
    "<br>\n",
    "- 클래스 객체를 생성하기 위해서는 다음처럼 함수처럼 호출됨\n",
    "    - 이런 과정을 instantiation 이라고 하며 생성된 객체는 클래스의 instance 라고 함\n",
    "\n",
    "~~~python\n",
    "myCompany = company()\n",
    "~~~\n"
   ]
  },
  {
   "cell_type": "markdown",
   "metadata": {},
   "source": [
    "### <span style=\"color:violet\">Example1. class basic</br>\n",
    "#### _간단한 예제_"
   ]
  },
  {
   "cell_type": "code",
   "execution_count": null,
   "metadata": {},
   "outputs": [],
   "source": [
    "class Animal :\n",
    "    name = '고양이'\n",
    "    def sound(self) :\n",
    "        print('냐아옹~')\n",
    "\n",
    "cat = Animal()\n",
    "\n",
    "print(cat.name)\n",
    "cat.sound()"
   ]
  },
  {
   "cell_type": "markdown",
   "metadata": {},
   "source": [
    "#### <span style=\"color:brown\">실습: 코드를 입력하세요</br>"
   ]
  },
  {
   "cell_type": "code",
   "execution_count": null,
   "metadata": {},
   "outputs": [],
   "source": []
  },
  {
   "cell_type": "markdown",
   "metadata": {},
   "source": [
    "- 클래스 Animal을 정의\n",
    "- Animal 클래스의 멤버변수 name '고양이'를 저장\n",
    "- Animal 클래스의 메소드 sound()를 정의\n",
    "- 메소드 sound()는 문자열 '냐오옹~'을 화면에 출력\n",
    "- 클래스 Animal의 객체 cat를 생성\n",
    "- cat.name은 객체 cat의 멤버변수 name(값:'고양이')을 의미\n",
    "- print(cat.name)은 실행 결과의 1번째 줄에서와 같이 '고양이'를 출력\n",
    "- cat.sound()는 객체 cat의 메소드 sound()를 호출\n",
    "- 위에서 정의된 sound() 메소드가 수행되어 실행 결과의 2번째 줄에 나타난 것과 같이 '냐오옹~'을 화면에 출력"
   ]
  },
  {
   "cell_type": "markdown",
   "metadata": {},
   "source": [
    "### 객체(Object)\n",
    "- 클래스는 똑같은 무엇인가를 계속해서 만들어 낼 수 있는 설계 도면\n",
    "- 객체는 클래스로 만든 피조물\n",
    "- 아래의 그림을 예시로 들면 와플빵을 만들어 내는 기계는 클래스, 와플빵이 객체라고 생각하면 됨\n",
    "![title](ch8_image\\2_object.png)"
   ]
  },
  {
   "cell_type": "markdown",
   "metadata": {},
   "source": [
    "### 객체와 인스턴스의 차이\n",
    "- 클래스로 만든 객체를 인스턴스라함\n",
    "- cat = Animal() 에서 cat는 객체이며, cat 객체는 Animal의 인스턴스라고 함\n",
    "- 즉, 인스턴스라는 말은 특정객체(cat)가 어떤 클래스(Animal)의 객체인지를   \n",
    "  관계 위주로 설명할 때 사용\n",
    "- cat는 객체라는 표현이 어울리고   \n",
    "  cat은 Animal의 객체 보다는 cat은 Animal의 인스턴스라는 표현이 어울림 "
   ]
  },
  {
   "cell_type": "markdown",
   "metadata": {},
   "source": [
    "### <span style=\"color:Orange\">Test1. 클래스로 과일 이름/색상/밋 출력하기</br>\n",
    "- 다음은 클래스를 이용하여 과일의 이름, 색상, 맛, 비타민 함유량 등을 화면에 출력하는 프로그램입니다. 빈 칸을 채워보세요.\n",
    "\n",
    "|<center>실행결과</center>|\n",
    "|:-|\n",
    "| 과일명 : 오렌지 |\n",
    "| 색상 : 노란색 |\n",
    "| 새콤하다. |\n",
    "| 비타민 C가 풍부하다. |\n",
    "\n",
    "~~~python\n",
    "class Fruit :\n",
    "    name = '오렌지'\n",
    "    ______ = '노란색'\n",
    "    def taste(self) :\n",
    "        print('새콤하다.')\n",
    "\n",
    "    def _____________ :\n",
    "        print('비타민 C가 풍부하다.')\n",
    "    \n",
    "\n",
    "orange = Fruit()\n",
    "\n",
    "print('과일명 : %s' % orange.__________)\n",
    "print('색상 : %s' % __________.color)\n",
    "orange._________\n",
    "orange.vitamin()\n",
    "~~~"
   ]
  },
  {
   "cell_type": "markdown",
   "metadata": {},
   "source": [
    "#### <span style=\"color:brown\">실습: 코드를 입력하세요</br>"
   ]
  },
  {
   "cell_type": "code",
   "execution_count": null,
   "metadata": {},
   "outputs": [],
   "source": []
  },
  {
   "cell_type": "markdown",
   "metadata": {},
   "source": [
    "## <span style=\"color:blue\"> 8.2. 멤버변수와 메소드"
   ]
  },
  {
   "cell_type": "markdown",
   "metadata": {},
   "source": [
    "- 멤버변수 : 클래스 내부에서 사용되는 변수를 말함\n",
    "- 메소드 : 내부에서 정의된 함수를 의미함\n",
    "    - 클래스 메소드는 함수 정의 방식과 동일\n",
    "    - 클래스에 정의되는 메소드는 항상 첫번째 인자로 self  인자를 정의해야 함\n",
    "    - self 인자는 클래스 자신을 가르키는 인자\n",
    "    - self 인자를 통해 클래스의 변수와 다른 메소드들을 참조할 수 있음\n",
    "    - self 인자는 클래스 구현부에만 존재하며 실제 함수 호출시 생략됨"
   ]
  },
  {
   "cell_type": "markdown",
   "metadata": {},
   "source": [
    "### <span style=\"color:violet\">Example2. 멤버변수 및 메소드 활용</br>\n",
    "#### _간단한 예제_"
   ]
  },
  {
   "cell_type": "code",
   "execution_count": null,
   "metadata": {},
   "outputs": [],
   "source": [
    "class car:\n",
    "    owner='HuStar'\n",
    "    def nameCar(self) :\n",
    "        print('My Car is BMW')\n",
    "    def colorCar(self) :\n",
    "        print('Red')\n",
    "myCar = car()\n",
    "myCar.nameCar()\n",
    "myCar.colorCar()\n",
    "print(myCar.owner)"
   ]
  },
  {
   "cell_type": "markdown",
   "metadata": {},
   "source": [
    "## <span style=\"color:blue\"> 8.3. 생성자"
   ]
  },
  {
   "cell_type": "markdown",
   "metadata": {},
   "source": [
    "- 생성자\n",
    "    - 객체를 생성할 때 호출되는 함수\n",
    "    - 객체 생성 시에 객체의 초기화 작업에 사용됨\n",
    "    \n",
    "    \n",
    "- 클래스 인스턴트 생성될 때 내부적으로 \\___init___( ) 함수를 호출함\n",
    "- \\___init___( ) 함수의 첫번째 인자로 마찬가지로 self 인자가 전달됨\n",
    "- 인스턴스 생성시 사용된 인자들도 함께 전달되어 클래스 변수로서 생성됨\n",
    "    - 인스턴스 변수 추가해야한다면  \\___init___( ) 함수 인자로서 추가해야함"
   ]
  },
  {
   "cell_type": "markdown",
   "metadata": {},
   "source": [
    "### <span style=\"color:violet\">Example3. 생성자 함수 __init__()</br>\n",
    "#### _간단한 예제_"
   ]
  },
  {
   "cell_type": "code",
   "execution_count": null,
   "metadata": {},
   "outputs": [],
   "source": [
    "class house:\n",
    "    def __init__(self, mainAddress,subAddress) :\n",
    "        self.mAddress = mainAddress\n",
    "        self.sAddress = subAddress\n",
    "        print('inti OK!')\n",
    "    \n",
    "    def mainAddress(self) :\n",
    "        print(\"My House's Address is\", self.mAddress)\n",
    "        \n",
    "    def subAddress(self) :\n",
    "        print(\"My second House's Address is\", self.sAddress)\n",
    "        \n",
    "myHouse = house('Daegu', 'incheon')\n",
    "myHouse.mainAddress()\n",
    "myHouse.subAddress()"
   ]
  },
  {
   "cell_type": "markdown",
   "metadata": {},
   "source": [
    "#### <span style=\"color:brown\">실습: 코드를 입력하세요</br>"
   ]
  },
  {
   "cell_type": "code",
   "execution_count": null,
   "metadata": {},
   "outputs": [],
   "source": []
  },
  {
   "cell_type": "markdown",
   "metadata": {},
   "source": [
    "### <span style=\"color:violet\">Example4. 여러 속성을 클래스에 추가하는 코드</br>\n",
    "#### _간단한 예제_"
   ]
  },
  {
   "cell_type": "code",
   "execution_count": null,
   "metadata": {},
   "outputs": [],
   "source": [
    "# 여러 속성을 클래스에 추가하는 코드\n",
    "\n",
    "class car2:\n",
    "    def __init__(self, color,name, plate) :\n",
    "        self.color = color\n",
    "        self.carKind = name\n",
    "        self.plate = plate\n",
    "        \n",
    "    def showColor(self):\n",
    "        print('내 차의 색깔은', self.color,'입니다')\n",
    "        \n",
    "    def displayCar(self) :\n",
    "        self.showColor()         # OK\n",
    "        #car2.showColor(self)  # OK\n",
    "        #showColor(self)          # 에러 발생\n",
    "        print('My Car is', self.carKind,'이고 차량 번호는', self.plate)\n",
    "        \n",
    "\n",
    "myCar1  = car2('Red', 'BMW', '33라3333')\n",
    "myCar1.displayCar();print('\\n')\n",
    "\n",
    "myCar2  = car2('Black', 'Audi', '01라0000')\n",
    "myCar2.displayCar()"
   ]
  },
  {
   "cell_type": "markdown",
   "metadata": {},
   "source": [
    "#### <span style=\"color:brown\">실습: 코드를 입력하세요</br>"
   ]
  },
  {
   "cell_type": "code",
   "execution_count": null,
   "metadata": {},
   "outputs": [],
   "source": []
  },
  {
   "cell_type": "markdown",
   "metadata": {},
   "source": [
    "### <span style=\"color:Orange\">Test2. 생성자를 이용하여 성적의 합계 평균구하기</br>\n",
    "- 다음은 클래스의 생성자를 이용하여 합계와 평균을 구하는 프로그램입니다. 빈칸을 채워보세요.\n",
    "\n",
    "|<center>실행결과</center>|\n",
    "|:-|\n",
    "| 이름 : 홍지영 |\n",
    "| 합계 : 280 |\n",
    "| 평균 : 98.3 |\n",
    "\n",
    "~~~python\n",
    "class Student :\n",
    "    total = 0\n",
    "    avg = 0.0\n",
    "    def __init__(self, name, kor, eng, math) :\n",
    "        self.name = name\n",
    "        _________ = kor\n",
    "        self.eng = eng\n",
    "        _________ = math\n",
    "       \n",
    "    def getSum(self) :\n",
    "        _________ = self.kor + self.eng + self.math\n",
    "        return self.total\n",
    "\n",
    "    def getAvg(self) :\n",
    "        self.avg = _________\n",
    "        return self.avg\n",
    "\n",
    "s1 = Student('홍지영', 90, 90, 100)\n",
    "print('이름 : %s' % s1.name)\n",
    "print('합계 : %d' % s1.getSum())\n",
    "print('평균 : %.1f' % _________)\n",
    "~~~\n"
   ]
  },
  {
   "cell_type": "markdown",
   "metadata": {},
   "source": [
    "#### <span style=\"color:brown\">실습: 코드를 입력하세요</br>"
   ]
  },
  {
   "cell_type": "code",
   "execution_count": null,
   "metadata": {},
   "outputs": [],
   "source": []
  },
  {
   "cell_type": "markdown",
   "metadata": {},
   "source": [
    "### <span style=\"color:Purple\">코딩미션1. 클래스로 두 수 사칙연산 수행하기</br>\n",
    "- 다음은 클래스를 이용하여 두 수의 사칙연산을 수행하는 프로그램입니다. 빈 박스 안을 채워서 프로그램을 완성해 보세요.\n",
    "\n",
    "[실행결과]\n",
    "- 10 + 20 = 30\n",
    "- 10 * 20 = 200\n",
    "\n",
    "~~~python\n",
    "class Calculator:\n",
    "    def __init__(self, num1, num2):\n",
    "        self.num1 = num1\n",
    "        self.num2 = num2\n",
    "        \n",
    "    def addition(self):\n",
    "        return self.num1 + self.num2\n",
    "    \n",
    "    def subtraction(self):\n",
    "        return self.num1 - self.num2\n",
    "    \n",
    "    def multiplication(self):\n",
    "        return self.num1 * self.num2\n",
    "    \n",
    "    def division(self):\n",
    "        return self.num1/self.num2\n",
    "    \n",
    "numA = 10\n",
    "numB = 20\n",
    "\n",
    "cal1 = Calculator(a,b)\n",
    "\n",
    "------------------실행결과가 나오도록 입력하세요.-----------------------\n",
    "~~~"
   ]
  },
  {
   "cell_type": "markdown",
   "metadata": {},
   "source": [
    "#### <span style=\"color:brown\">실습: 코드를 입력하세요</br>"
   ]
  },
  {
   "cell_type": "code",
   "execution_count": null,
   "metadata": {},
   "outputs": [],
   "source": []
  }
 ],
 "metadata": {
  "kernelspec": {
   "display_name": "Python 3 (ipykernel)",
   "language": "python",
   "name": "python3"
  },
  "language_info": {
   "codemirror_mode": {
    "name": "ipython",
    "version": 3
   },
   "file_extension": ".py",
   "mimetype": "text/x-python",
   "name": "python",
   "nbconvert_exporter": "python",
   "pygments_lexer": "ipython3",
   "version": "3.9.7"
  }
 },
 "nbformat": 4,
 "nbformat_minor": 4
}
