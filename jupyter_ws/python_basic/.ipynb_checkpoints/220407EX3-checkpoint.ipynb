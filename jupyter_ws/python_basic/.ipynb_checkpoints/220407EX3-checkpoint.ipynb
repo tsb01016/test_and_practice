{
 "cells": [
  {
   "cell_type": "markdown",
   "metadata": {},
   "source": [
    "예제1) 매개변수를 이용하여 정수의 합계 구하기\n",
    "       sum(start,end) 함수 정의\n",
    "       \n",
    "실행결과:\n",
    "\n",
    "#### 1~10의 정수의 합계: 55\n",
    "#### 100~200의 정수의 합계: 15150\n",
    "#### 200~300의 정수의 합계: 25250"
   ]
  },
  {
   "cell_type": "code",
   "execution_count": null,
   "metadata": {},
   "outputs": [],
   "source": [
    "def sum(start, end):\n",
    "    a = 0\n",
    "    i = start\n",
    "    while i<=end:\n",
    "        a+=i\n",
    "        i+=1\n",
    "    return a\n",
    "    \n",
    "a, b =map(int, input(\"시작점과 끝점을 입력하세요. : \").split())\n",
    "print(\"%d~%d의 정수의 합계 : %d\" %(a,b, sum(a,b)) )"
   ]
  },
  {
   "cell_type": "markdown",
   "metadata": {
    "tags": []
   },
   "source": [
    "예제2) 함수의 반환 값을 이용한 인치 센티미터 변환하기\n",
    "       inch_to_cm(inch) 함수 정의\n",
    "       \n",
    "실행결과:\n",
    "\n",
    "#### 인치를 입력하세요: 30\n",
    "#### 30 inch => 76.20 cm"
   ]
  },
  {
   "cell_type": "code",
   "execution_count": null,
   "metadata": {},
   "outputs": [],
   "source": [
    "def inch_to_cm(inch):\n",
    "    cm = (inch * 2.54)\n",
    "    return cm\n",
    "a=int(input(\"인치를 입력하세요 : \"))\n",
    "print(\"%d inch => %.2f cm\" %(a,inch_to_cm(a)))\n"
   ]
  },
  {
   "cell_type": "markdown",
   "metadata": {},
   "source": [
    "     \n",
    "예제3) 함수의 반환 값을 이용한 배수 판별\n",
    "       besu5(n) 함수 정의\n",
    "       \n",
    "#### 실행결과1:\n",
    "\n",
    "#### 양의 정수를 입력하세요: 40\n",
    "#### 40 => 5의 배수이다.\n",
    "\n",
    "#### 실행결과2:\n",
    "\n",
    "#### 양의 정수를 입력하세요: 41\n",
    "#### 41 => 5의 배수가 아니다."
   ]
  },
  {
   "cell_type": "code",
   "execution_count": null,
   "metadata": {},
   "outputs": [],
   "source": [
    "def besu5(n):\n",
    "    if n%5==0:\n",
    "        return \"5의 배수이다.\"\n",
    "    else:\n",
    "        return \"5의 배수가 아니다.\"\n",
    "a=int(input(\"양의 정수를 입력하세요. : \"))\n",
    "print(\"%d => %s\"%(a,besu5(a)))"
   ]
  },
  {
   "cell_type": "markdown",
   "metadata": {},
   "source": [
    "예제4) main 코드에서 두 개의 자연수 x와 y를 입력받고, x, y를 함수 print_star()에 넘겨서 함수에서 x행 y열의 '* ' 를 출력\n",
    "\n",
    "실행결과:\n",
    "\n",
    "Enter x: 2\n",
    "\n",
    "Enter y: 10\n",
    "#### **********\n",
    "#### **********"
   ]
  },
  {
   "cell_type": "code",
   "execution_count": null,
   "metadata": {},
   "outputs": [],
   "source": [
    "def print_star(x,y):\n",
    "    i=0\n",
    "    while i<=x:\n",
    "        i+=1\n",
    "        print((\"*\"*y)+\"\\n\")\n",
    "\n",
    "x=int(input(\"Enter x :\"))\n",
    "y=int(input(\"Enter y :\"))\n",
    "print_star(x,y)"
   ]
  },
  {
   "cell_type": "markdown",
   "metadata": {},
   "source": [
    "예제5) 입력받은 3개의 값 중에서 가장 큰 값을 출력하는 프로그램 작성하기(반환값 없이 작성)\n",
    "       print_largest(a,b,c) 함수 정의\n",
    "\n",
    "실행결과1\n",
    "#### Enter x : 1\n",
    "#### Enter y : 3\n",
    "#### Enter z : 5\n",
    "#### max value of (1,3,5) is 5\n",
    "\n",
    "실행결과2\n",
    "#### Enter x : 7\n",
    "#### Enter y : 6\n",
    "#### Enter z : 5\n",
    "#### max value of (7,6,5) is 7\n",
    "\n",
    "실행결과3\n",
    "#### Enter x : 3\n",
    "#### Enter y : 5\n",
    "#### Enter z : 4\n",
    "#### max value of (3,5,4) is 5"
   ]
  },
  {
   "cell_type": "code",
   "execution_count": null,
   "metadata": {},
   "outputs": [],
   "source": [
    "def print_largest(a,b,c):\n",
    "    if a>b:\n",
    "        if a>c:\n",
    "            print(\"max value of (%d,%d,%d) is %d\"%(a,b,c,a))\n",
    "        else:\n",
    "            print(\"max value of (%d,%d,%d) is %d\"%(a,b,c,c))\n",
    "    elif a<b:\n",
    "        if b>c:\n",
    "            print(\"max value of (%d,%d,%d) is %d\"%(a,b,c,b))\n",
    "        else:\n",
    "            print(\"max value of (%d,%d,%d) is %d\"%(a,b,c,c))\n",
    "    else:\n",
    "        if a>c:\n",
    "            print(\"max value of (%d,%d,%d) is %d\"%(a,b,c,a))\n",
    "        else:\n",
    "            print(\"max value of (%d,%d,%d) is %d\"%(a,b,c,c))\n",
    "            \n",
    "x=int(input(\"Enter x :\"))\n",
    "y=int(input(\"Enter y :\"))\n",
    "z=int(input(\"Enter z :\"))\n",
    "\n",
    "print_largest(x,y,z)"
   ]
  },
  {
   "cell_type": "markdown",
   "metadata": {},
   "source": [
    "참고) 반환값이 두 개 이상인 경우 객체 형태(예시)"
   ]
  },
  {
   "cell_type": "code",
   "execution_count": null,
   "metadata": {},
   "outputs": [],
   "source": [
    "def return_two(x,y):\n",
    "    w=x+y\n",
    "    z=x*y\n",
    "    return w,z #여러 데이터가 컴마로 분리되어 있으면 튜플로 간주\n",
    "\n",
    "a,b = return_two(10,20) # a와 b의 자료형은 int\n",
    "print(a,b)\n",
    "t=return_two(30,40) # t의 자료형은 tuple\n",
    "print(t)"
   ]
  },
  {
   "cell_type": "markdown",
   "metadata": {},
   "source": [
    "예제6) 리스트 math에는 학생 여러 명의 수학 성적이 저장되어 있다.\n",
    "####       math=[90,80,95,83,75,99,72,90,65,88]\n",
    "####       score_info(M) 함수를 정의하고, 학생 수, 최고 성적, 최저 성적, 평균을 반환하는 프로그램을 작성할 것.\n",
    "     \n",
    "\n",
    "실행결과\n",
    "#### There 10 scores in math list.\n",
    "#### Max score: 99\n",
    "#### Min score: 65\n",
    "#### Average: 83.70"
   ]
  },
  {
   "cell_type": "code",
   "execution_count": 4,
   "metadata": {},
   "outputs": [
    {
     "name": "stdout",
     "output_type": "stream",
     "text": [
      "There 10 scores in math list.\n",
      " Max score : 99\n",
      " Min scroe : 65 \n",
      " Average : 83.70\n"
     ]
    }
   ],
   "source": [
    "def score_info(M):\n",
    "    return len(M), max(M), min(M), sum(M)/len(M)\n",
    "  \n",
    "math=[90,80,95,83,75,99,72,90,65,88]\n",
    "a,b,c,d=score_info(math)\n",
    "print(\"There %d scores in math list.\\n Max score : %d\\n Min scroe : %d \\n Average : %.2f\"\n",
    "      %(a,b,c,d))"
   ]
  },
  {
   "cell_type": "markdown",
   "metadata": {},
   "source": [
    "예제7) 함수 count는 학생들의 수학 성적이 저장된 math 리스트와 성적 x를 입력받습니다.\n",
    "       그리고 math() 리스트에서 x 이상의 성적이 몇 명인지 찾아서 반환하는 코드 작성\n",
    "       \n",
    "       math=[90,92,85,80,77,68,73,81,65,88]\n",
    "       count(M,X) 함수를 정의하여 작성\n",
    "       format()메소드로 출력할 것\n",
    "       \n",
    "실행결과\n",
    "\n",
    "#### OO점 이상인 학생수: O"
   ]
  },
  {
   "cell_type": "code",
   "execution_count": 12,
   "metadata": {},
   "outputs": [
    {
     "name": "stdin",
     "output_type": "stream",
     "text": [
      "기준 점수를 입력하세요 : 80\n"
     ]
    },
    {
     "name": "stdout",
     "output_type": "stream",
     "text": [
      "80점 이상인 학생 수 : 6\n"
     ]
    }
   ],
   "source": [
    "def count(M,x):\n",
    "    i=0\n",
    "    count=0\n",
    "    while i<len(M):\n",
    "        if M[i]>=x:\n",
    "            count+=1\n",
    "        i+=1\n",
    "    return count\n",
    "\n",
    "math=[90,92,85,80,77,68,73,81,65,88]\n",
    "x=int(input(\"기준 점수를 입력하세요 :\"))\n",
    "print(\"{:d}점 이상인 학생 수 : {:d}\".format(x,count(math,x)))"
   ]
  },
  {
   "cell_type": "markdown",
   "metadata": {},
   "source": [
    "예제8) 함수의 return 값이 있는지 없는지 체크해 보는 프로그램 작성(return 값이 없을 경우 There is no return value 출력)\n",
    "       test_return() 함수 정의\n",
    "       \n",
    "실행결과\n",
    "\n",
    "#### hello world\n",
    "#### have a nice day\n",
    "#### There is no return value"
   ]
  },
  {
   "cell_type": "code",
   "execution_count": 17,
   "metadata": {},
   "outputs": [
    {
     "name": "stdout",
     "output_type": "stream",
     "text": [
      "no return\n",
      "hello world\n",
      " have a nice day\n",
      " There is no return value\n"
     ]
    }
   ],
   "source": [
    "def test_return(a):\n",
    "    if a==None:\n",
    "        print(\"hello world\\n have a nice day\\n There is no return value\")\n",
    "    else:\n",
    "        print(\"hello world\\n have a nice day\\n This function has return value\")\n",
    "\n",
    "def funt1():\n",
    "    return 100;\n",
    "\n",
    "def funt2():\n",
    "    print(\"no return\")\n",
    "\n",
    "test_return(funt2())"
   ]
  }
 ],
 "metadata": {
  "kernelspec": {
   "display_name": "Python 3 (ipykernel)",
   "language": "python",
   "name": "python3"
  },
  "language_info": {
   "codemirror_mode": {
    "name": "ipython",
    "version": 3
   },
   "file_extension": ".py",
   "mimetype": "text/x-python",
   "name": "python",
   "nbconvert_exporter": "python",
   "pygments_lexer": "ipython3",
   "version": "3.9.7"
  }
 },
 "nbformat": 4,
 "nbformat_minor": 4
}
