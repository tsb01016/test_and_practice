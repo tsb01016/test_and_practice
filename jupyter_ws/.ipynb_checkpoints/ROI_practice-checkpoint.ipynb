{
 "cells": [
  {
   "cell_type": "code",
   "execution_count": null,
   "id": "67e3cdda-b4e5-43a6-8ecb-5f86678d8d7a",
   "metadata": {},
   "outputs": [],
   "source": [
    "import cv2\n",
    "\n",
    "title = 'img' # 원본이미지 창 이름\n",
    "title2= 'ROI' # ROI 설정한 부분 창 이름\n",
    "roi_path='./ROI.jpg'#ROI 설정한 부분 저장할 위치\n",
    "blue, red = (255,0,0),(0,0,255)\n",
    "isDragging=False # 드래그 상태인지 아닌지 구분하는 변수 -> 이거 떠올리는거 못해서 힘들었습니다.\n",
    "x0, y0= -1, -1 # 초기값 설정\n",
    "img=cv2.imread(\"./Images/food.jpg\") # 원본 이미지 어레이화\n",
    "cv2.imshow(title,img) # 이미지 창 켜기\n",
    "\n",
    "def onMouse(event, x, y, flag, param):\n",
    "    global img, x0, y0, isDragging, blue, red, title, title2, roi_path # 변수 불러오가\n",
    "    if event==cv2.EVENT_LBUTTONDOWN:\n",
    "        isDragging =True # 드래그중입니다.\n",
    "        x0=x # 초기 위치 설정\n",
    "        y0=y # 초기 위치 설정\n",
    "        cv2.destroyWindow(\"error\")#에러창 닫기\n",
    "        cv2.destroyWindow(title2)#기존 ROI창 닫기 -> 트라이 & 엑셉트 구문 넣으면 더 깔끔할것\n",
    "    elif event==cv2.EVENT_MOUSEMOVE:\n",
    "        if isDragging: # 드래그 중일때만 동작하는 If 문\n",
    "            img_draw=img.copy() # 원본 이미지 보호용 카피 어레이 생성.\n",
    "                                #마우스가 움직일때마다 원본이미지를 불러와서 초기화해야하는 중요한 부분.\n",
    "            cv2.rectangle(img_draw,(x0,y0),(x,y),blue,2) #파란 사각형 그리기\n",
    "            cv2.imshow(title,img_draw) # 그린거 바로 표시\n",
    "    elif event==cv2.EVENT_LBUTTONUP:\n",
    "        if isDragging: # 드래그 중일때만 동작.\n",
    "            isDragging=False # 마우스 뗐으니 드래그 off\n",
    "            img_draw=img.copy() # 원본이미지 보호용 카피 어레이 생성.\n",
    "            if y>y0 and x>x0: # 초기위치보다 왼쪽 아래일때만 동작.\n",
    "                cv2.rectangle(img_draw,(x0,y0),(x,y),red,2) # 붉은 사각형 그리기\n",
    "                roi=img[y0:y,x0:x] # 사각형 그린 부분의 어레이 저장\n",
    "                cv2.imshow(title,img_draw) # 사각형이 그려진 원본사진 띄우기\n",
    "                cv2.imshow(title2,roi) # 사각형 그린 부분만 사진 새 창 띄우기\n",
    "                cv2.imwrite(roi_path,roi) #ROI 지정부분 저장함.\n",
    "                print(\"ROI setting is saved : Rectangle from (%d ,%d) to (%d,%d)\"%(x0,y0,x,y)) # ROI 세팅 좌표 설정\n",
    "            else:\n",
    "                cv2.imshow(title,img_draw)\n",
    "                error = cv2.imread(\"./Images/skull.jpg\")\n",
    "                cv2.imshow(\"error\",error)\n",
    "                print(\"에러! 좌상에서 우하로 드래그하세요.\")\n",
    "\n",
    "cv2.setMouseCallback(title, onMouse)\n",
    "\n",
    "while True:\n",
    "    if cv2.waitKey(30)&0xFF==27:# 아스키코트 정수 ESC = 27, ESC눌러서 종료\n",
    "        break\n",
    "    elif cv2.waitKey(30)&0xFF==ord('q'): #아스키코드 정수 q = 119, 소문자 q 눌러서 종료\n",
    "        break\n",
    "cv2.destroyAllWindows()"
   ]
  }
 ],
 "metadata": {
  "kernelspec": {
   "display_name": "Python 3 (ipykernel)",
   "language": "python",
   "name": "python3"
  },
  "language_info": {
   "codemirror_mode": {
    "name": "ipython",
    "version": 3
   },
   "file_extension": ".py",
   "mimetype": "text/x-python",
   "name": "python",
   "nbconvert_exporter": "python",
   "pygments_lexer": "ipython3",
   "version": "3.9.7"
  }
 },
 "nbformat": 4,
 "nbformat_minor": 5
}
